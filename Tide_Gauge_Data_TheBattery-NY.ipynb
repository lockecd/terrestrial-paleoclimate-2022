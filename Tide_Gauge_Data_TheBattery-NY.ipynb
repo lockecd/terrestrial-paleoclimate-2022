{
 "cells": [
  {
   "cell_type": "markdown",
   "id": "c1e356ef-5e8a-4042-8e23-ec81a281cb34",
   "metadata": {},
   "source": [
    "# Using Holocene Warming as an Analog for Impacts of Future Warming on the Greenland Ice Sheet and Coastal Communities\n",
    "\n",
    "Caitlin Locke <br />\n",
    "Terrestrial Paleoclimate Final Project <br />\n",
    "Fall 2022 <br />\n",
    "\n",
    "Team Members: Sam Chester, Emily Glazer, Jaewon Lee, Lauren Lewright  <br />\n",
    "\n",
    "## Background\n",
    "\n",
    "Future projections of sea level are important for understanding how vulnerable coastal communities will be affected worldwide. In this project, we evaluated the impact of climate change on coastal communities by using the Holocene Thermal Maximum (HTM) as an analog for future warming, as predicted by Climate Model Intercomparison Project Phase 6 (CMIP6). We examined changes in sea level worldwide due to Greenland Ice Sheet (GrIS) thickness changes through the Holocene using Jacky Austermann’s sea level model and examined our model outputs, along with National Oceanic and Atmospheric Administration (NOAA) tide gauge data."
   ]
  },
  {
   "cell_type": "markdown",
   "id": "cdb3f995-bd40-428a-a190-bf110abca8ca",
   "metadata": {},
   "source": [
    "## 1) Import python libraries and packages.\n",
    "Import Numpy, Pandas, Matplotlib, Xarray, and Cartopy python libraries and packages. Set the default figure size to (12, 6)."
   ]
  },
  {
   "cell_type": "code",
   "execution_count": 1,
   "id": "a428d804-5d34-4de8-8b5d-fca6425fa1e7",
   "metadata": {},
   "outputs": [],
   "source": [
    "# import Python packages and libraries \n",
    "import numpy as np\n",
    "import pandas as pd\n",
    "from matplotlib import pyplot as plt\n",
    "import xarray as xr\n",
    "import cartopy\n",
    "import cartopy.crs as ccrs\n",
    "import cartopy.feature as cfeature\n",
    "import warnings\n",
    "warnings.filterwarnings(\"ignore\")\n",
    "plt.rcParams['figure.figsize'] = (12,6) # set the default figure size"
   ]
  },
  {
   "cell_type": "markdown",
   "id": "7a30c6eb-ed7d-45db-abdc-c73d89191ae1",
   "metadata": {},
   "source": [
    "## 2) Load data from NOAA Tides and Currents website\n",
    "This dataset contains local relative sea level (RSL) trends based on monthly mean sea level data collected by tide gauges. The tide gauge data for this project are from the National Water Level Observation Network (NWLON), which is a permanent network of water level monitoring stations throughout the United States maintained by NOAA."
   ]
  },
  {
   "cell_type": "code",
   "execution_count": 2,
   "id": "d9531573-44f6-4dab-bef9-57f9030e34b5",
   "metadata": {},
   "outputs": [
    {
     "data": {
      "text/html": [
       "<div>\n",
       "<style scoped>\n",
       "    .dataframe tbody tr th:only-of-type {\n",
       "        vertical-align: middle;\n",
       "    }\n",
       "\n",
       "    .dataframe tbody tr th {\n",
       "        vertical-align: top;\n",
       "    }\n",
       "\n",
       "    .dataframe thead th {\n",
       "        text-align: right;\n",
       "    }\n",
       "</style>\n",
       "<table border=\"1\" class=\"dataframe\">\n",
       "  <thead>\n",
       "    <tr style=\"text-align: right;\">\n",
       "      <th></th>\n",
       "      <th>Year</th>\n",
       "      <th>Month</th>\n",
       "      <th>Monthly_MSL</th>\n",
       "      <th>Linear_Trend</th>\n",
       "      <th>High_Conf.</th>\n",
       "      <th>Low_Conf.</th>\n",
       "    </tr>\n",
       "  </thead>\n",
       "  <tbody>\n",
       "    <tr>\n",
       "      <th>1856</th>\n",
       "      <td>1</td>\n",
       "      <td>-0.250</td>\n",
       "      <td>-0.391</td>\n",
       "      <td>-0.383</td>\n",
       "      <td>-0.400</td>\n",
       "      <td>NaN</td>\n",
       "    </tr>\n",
       "    <tr>\n",
       "      <th>1856</th>\n",
       "      <td>2</td>\n",
       "      <td>-0.247</td>\n",
       "      <td>-0.391</td>\n",
       "      <td>-0.383</td>\n",
       "      <td>-0.400</td>\n",
       "      <td>NaN</td>\n",
       "    </tr>\n",
       "    <tr>\n",
       "      <th>1856</th>\n",
       "      <td>3</td>\n",
       "      <td>-0.346</td>\n",
       "      <td>-0.391</td>\n",
       "      <td>-0.382</td>\n",
       "      <td>-0.399</td>\n",
       "      <td>NaN</td>\n",
       "    </tr>\n",
       "    <tr>\n",
       "      <th>1856</th>\n",
       "      <td>4</td>\n",
       "      <td>-0.355</td>\n",
       "      <td>-0.391</td>\n",
       "      <td>-0.382</td>\n",
       "      <td>-0.399</td>\n",
       "      <td>NaN</td>\n",
       "    </tr>\n",
       "    <tr>\n",
       "      <th>1856</th>\n",
       "      <td>5</td>\n",
       "      <td>-0.324</td>\n",
       "      <td>-0.390</td>\n",
       "      <td>-0.382</td>\n",
       "      <td>-0.399</td>\n",
       "      <td>NaN</td>\n",
       "    </tr>\n",
       "  </tbody>\n",
       "</table>\n",
       "</div>"
      ],
      "text/plain": [
       "      Year   Month   Monthly_MSL   Linear_Trend   High_Conf.   Low_Conf.\n",
       "1856     1  -0.250        -0.391         -0.383       -0.400         NaN\n",
       "1856     2  -0.247        -0.391         -0.383       -0.400         NaN\n",
       "1856     3  -0.346        -0.391         -0.382       -0.399         NaN\n",
       "1856     4  -0.355        -0.391         -0.382       -0.399         NaN\n",
       "1856     5  -0.324        -0.390         -0.382       -0.399         NaN"
      ]
     },
     "execution_count": 2,
     "metadata": {},
     "output_type": "execute_result"
    }
   ],
   "source": [
    "# Load data from NOAA Tides and Currents website for The Battery, NY (https://tidesandcurrents.noaa.gov/sltrends/sltrends_station.shtml?id=8518750)\n",
    "url = 'https://tidesandcurrents.noaa.gov/sltrends/data/8518750_meantrend.csv'\n",
    "df = pd.read_csv(url)\n",
    "df.head()\n",
    "\n",
    "# # load data from local file\n",
    "# file_path = '8518750_meantrend.csv'\n",
    "# df = pd.read_csv(file_path)\n",
    "# df.head()"
   ]
  },
  {
   "cell_type": "markdown",
   "id": "eb774517-7692-48ca-b5c4-78d71eb238fe",
   "metadata": {},
   "source": [
    "# 3) Clean NOAA Tide Data\n",
    "1. Add DataFrame index\n",
    "1. Rename column names and drop columns that aren't needed.\n",
    "1. Change the DataFrame index to Year"
   ]
  },
  {
   "cell_type": "code",
   "execution_count": 3,
   "id": "a43dc4eb-cf29-4d80-9e96-73bdfab9a44d",
   "metadata": {},
   "outputs": [
    {
     "data": {
      "text/html": [
       "<div>\n",
       "<style scoped>\n",
       "    .dataframe tbody tr th:only-of-type {\n",
       "        vertical-align: middle;\n",
       "    }\n",
       "\n",
       "    .dataframe tbody tr th {\n",
       "        vertical-align: top;\n",
       "    }\n",
       "\n",
       "    .dataframe thead th {\n",
       "        text-align: right;\n",
       "    }\n",
       "</style>\n",
       "<table border=\"1\" class=\"dataframe\">\n",
       "  <thead>\n",
       "    <tr style=\"text-align: right;\">\n",
       "      <th></th>\n",
       "      <th>index</th>\n",
       "      <th>Year</th>\n",
       "      <th>Month</th>\n",
       "      <th>Monthly_MSL</th>\n",
       "      <th>Linear_Trend</th>\n",
       "      <th>High_Conf.</th>\n",
       "      <th>Low_Conf.</th>\n",
       "    </tr>\n",
       "  </thead>\n",
       "  <tbody>\n",
       "    <tr>\n",
       "      <th>0</th>\n",
       "      <td>1856</td>\n",
       "      <td>1</td>\n",
       "      <td>-0.250</td>\n",
       "      <td>-0.391</td>\n",
       "      <td>-0.383</td>\n",
       "      <td>-0.400</td>\n",
       "      <td>NaN</td>\n",
       "    </tr>\n",
       "    <tr>\n",
       "      <th>1</th>\n",
       "      <td>1856</td>\n",
       "      <td>2</td>\n",
       "      <td>-0.247</td>\n",
       "      <td>-0.391</td>\n",
       "      <td>-0.383</td>\n",
       "      <td>-0.400</td>\n",
       "      <td>NaN</td>\n",
       "    </tr>\n",
       "    <tr>\n",
       "      <th>2</th>\n",
       "      <td>1856</td>\n",
       "      <td>3</td>\n",
       "      <td>-0.346</td>\n",
       "      <td>-0.391</td>\n",
       "      <td>-0.382</td>\n",
       "      <td>-0.399</td>\n",
       "      <td>NaN</td>\n",
       "    </tr>\n",
       "    <tr>\n",
       "      <th>3</th>\n",
       "      <td>1856</td>\n",
       "      <td>4</td>\n",
       "      <td>-0.355</td>\n",
       "      <td>-0.391</td>\n",
       "      <td>-0.382</td>\n",
       "      <td>-0.399</td>\n",
       "      <td>NaN</td>\n",
       "    </tr>\n",
       "    <tr>\n",
       "      <th>4</th>\n",
       "      <td>1856</td>\n",
       "      <td>5</td>\n",
       "      <td>-0.324</td>\n",
       "      <td>-0.390</td>\n",
       "      <td>-0.382</td>\n",
       "      <td>-0.399</td>\n",
       "      <td>NaN</td>\n",
       "    </tr>\n",
       "  </tbody>\n",
       "</table>\n",
       "</div>"
      ],
      "text/plain": [
       "   index  Year   Month   Monthly_MSL   Linear_Trend   High_Conf.   Low_Conf.\n",
       "0   1856     1  -0.250        -0.391         -0.383       -0.400         NaN\n",
       "1   1856     2  -0.247        -0.391         -0.383       -0.400         NaN\n",
       "2   1856     3  -0.346        -0.391         -0.382       -0.399         NaN\n",
       "3   1856     4  -0.355        -0.391         -0.382       -0.399         NaN\n",
       "4   1856     5  -0.324        -0.390         -0.382       -0.399         NaN"
      ]
     },
     "execution_count": 3,
     "metadata": {},
     "output_type": "execute_result"
    }
   ],
   "source": [
    "# Add dataframe index\n",
    "df = df.reset_index()\n",
    "df.head()"
   ]
  },
  {
   "cell_type": "code",
   "execution_count": 4,
   "id": "66233a01-0fd2-49cd-8458-bfb5c29f9162",
   "metadata": {},
   "outputs": [
    {
     "name": "stdout",
     "output_type": "stream",
     "text": [
      "<class 'pandas.core.frame.DataFrame'>\n",
      "RangeIndex: 1817 entries, 0 to 1816\n",
      "Data columns (total 7 columns):\n",
      " #   Column         Non-Null Count  Dtype  \n",
      "---  ------         --------------  -----  \n",
      " 0   index          1817 non-null   int64  \n",
      " 1   Year           1817 non-null   int64  \n",
      " 2    Month         1817 non-null   float64\n",
      " 3    Monthly_MSL   1817 non-null   float64\n",
      " 4    Linear_Trend  1817 non-null   float64\n",
      " 5    High_Conf.    1817 non-null   float64\n",
      " 6    Low_Conf.     0 non-null      float64\n",
      "dtypes: float64(5), int64(2)\n",
      "memory usage: 99.5 KB\n"
     ]
    }
   ],
   "source": [
    "# Display dataframe information\n",
    "df.info()"
   ]
  },
  {
   "cell_type": "code",
   "execution_count": 5,
   "id": "04ee14f0-55a4-4897-875b-1e0c460a847b",
   "metadata": {},
   "outputs": [
    {
     "data": {
      "text/plain": [
       "Index(['index', 'Year', ' Month', ' Monthly_MSL', ' Linear_Trend',\n",
       "       ' High_Conf.', ' Low_Conf.'],\n",
       "      dtype='object')"
      ]
     },
     "execution_count": 5,
     "metadata": {},
     "output_type": "execute_result"
    }
   ],
   "source": [
    "# Display dataframe columns\n",
    "df.columns"
   ]
  },
  {
   "cell_type": "code",
   "execution_count": 6,
   "id": "063e12d4-18c6-4bf5-abeb-f70a76eeaeaf",
   "metadata": {},
   "outputs": [
    {
     "data": {
      "text/html": [
       "<div>\n",
       "<style scoped>\n",
       "    .dataframe tbody tr th:only-of-type {\n",
       "        vertical-align: middle;\n",
       "    }\n",
       "\n",
       "    .dataframe tbody tr th {\n",
       "        vertical-align: top;\n",
       "    }\n",
       "\n",
       "    .dataframe thead th {\n",
       "        text-align: right;\n",
       "    }\n",
       "</style>\n",
       "<table border=\"1\" class=\"dataframe\">\n",
       "  <thead>\n",
       "    <tr style=\"text-align: right;\">\n",
       "      <th></th>\n",
       "      <th>Year</th>\n",
       "      <th>Month</th>\n",
       "      <th>Monthly_MSL</th>\n",
       "      <th>Linear_Trend</th>\n",
       "      <th>High_Conf</th>\n",
       "      <th>Low_Conf</th>\n",
       "      <th>DELETE</th>\n",
       "    </tr>\n",
       "  </thead>\n",
       "  <tbody>\n",
       "    <tr>\n",
       "      <th>0</th>\n",
       "      <td>1856</td>\n",
       "      <td>1</td>\n",
       "      <td>-0.250</td>\n",
       "      <td>-0.391</td>\n",
       "      <td>-0.383</td>\n",
       "      <td>-0.400</td>\n",
       "      <td>NaN</td>\n",
       "    </tr>\n",
       "    <tr>\n",
       "      <th>1</th>\n",
       "      <td>1856</td>\n",
       "      <td>2</td>\n",
       "      <td>-0.247</td>\n",
       "      <td>-0.391</td>\n",
       "      <td>-0.383</td>\n",
       "      <td>-0.400</td>\n",
       "      <td>NaN</td>\n",
       "    </tr>\n",
       "    <tr>\n",
       "      <th>2</th>\n",
       "      <td>1856</td>\n",
       "      <td>3</td>\n",
       "      <td>-0.346</td>\n",
       "      <td>-0.391</td>\n",
       "      <td>-0.382</td>\n",
       "      <td>-0.399</td>\n",
       "      <td>NaN</td>\n",
       "    </tr>\n",
       "    <tr>\n",
       "      <th>3</th>\n",
       "      <td>1856</td>\n",
       "      <td>4</td>\n",
       "      <td>-0.355</td>\n",
       "      <td>-0.391</td>\n",
       "      <td>-0.382</td>\n",
       "      <td>-0.399</td>\n",
       "      <td>NaN</td>\n",
       "    </tr>\n",
       "    <tr>\n",
       "      <th>4</th>\n",
       "      <td>1856</td>\n",
       "      <td>5</td>\n",
       "      <td>-0.324</td>\n",
       "      <td>-0.390</td>\n",
       "      <td>-0.382</td>\n",
       "      <td>-0.399</td>\n",
       "      <td>NaN</td>\n",
       "    </tr>\n",
       "  </tbody>\n",
       "</table>\n",
       "</div>"
      ],
      "text/plain": [
       "   Year  Month  Monthly_MSL  Linear_Trend  High_Conf  Low_Conf  DELETE\n",
       "0  1856      1       -0.250        -0.391     -0.383    -0.400     NaN\n",
       "1  1856      2       -0.247        -0.391     -0.383    -0.400     NaN\n",
       "2  1856      3       -0.346        -0.391     -0.382    -0.399     NaN\n",
       "3  1856      4       -0.355        -0.391     -0.382    -0.399     NaN\n",
       "4  1856      5       -0.324        -0.390     -0.382    -0.399     NaN"
      ]
     },
     "execution_count": 6,
     "metadata": {},
     "output_type": "execute_result"
    }
   ],
   "source": [
    "# Rename column names to shift them to the correct header position\n",
    "df.rename(columns={'index':'Year',\n",
    "                       'Year':'Month',\n",
    "                       ' Month':'Monthly_MSL',\n",
    "                       ' Monthly_MSL':'Linear_Trend',\n",
    "                        ' Linear_Trend':'High_Conf',\n",
    "                        ' High_Conf.':'Low_Conf',\n",
    "                        ' Low_Conf.':'DELETE'},\n",
    "               inplace=True)\n",
    "df.head()"
   ]
  },
  {
   "cell_type": "code",
   "execution_count": 7,
   "id": "54956221-f8fc-4f0d-8c25-eb5b4d6cc9ef",
   "metadata": {},
   "outputs": [
    {
     "data": {
      "text/html": [
       "<div>\n",
       "<style scoped>\n",
       "    .dataframe tbody tr th:only-of-type {\n",
       "        vertical-align: middle;\n",
       "    }\n",
       "\n",
       "    .dataframe tbody tr th {\n",
       "        vertical-align: top;\n",
       "    }\n",
       "\n",
       "    .dataframe thead th {\n",
       "        text-align: right;\n",
       "    }\n",
       "</style>\n",
       "<table border=\"1\" class=\"dataframe\">\n",
       "  <thead>\n",
       "    <tr style=\"text-align: right;\">\n",
       "      <th></th>\n",
       "      <th>Year</th>\n",
       "      <th>Month</th>\n",
       "      <th>Monthly_MSL</th>\n",
       "      <th>Linear_Trend</th>\n",
       "      <th>High_Conf</th>\n",
       "      <th>Low_Conf</th>\n",
       "    </tr>\n",
       "  </thead>\n",
       "  <tbody>\n",
       "    <tr>\n",
       "      <th>0</th>\n",
       "      <td>1856</td>\n",
       "      <td>1</td>\n",
       "      <td>-0.250</td>\n",
       "      <td>-0.391</td>\n",
       "      <td>-0.383</td>\n",
       "      <td>-0.400</td>\n",
       "    </tr>\n",
       "    <tr>\n",
       "      <th>1</th>\n",
       "      <td>1856</td>\n",
       "      <td>2</td>\n",
       "      <td>-0.247</td>\n",
       "      <td>-0.391</td>\n",
       "      <td>-0.383</td>\n",
       "      <td>-0.400</td>\n",
       "    </tr>\n",
       "    <tr>\n",
       "      <th>2</th>\n",
       "      <td>1856</td>\n",
       "      <td>3</td>\n",
       "      <td>-0.346</td>\n",
       "      <td>-0.391</td>\n",
       "      <td>-0.382</td>\n",
       "      <td>-0.399</td>\n",
       "    </tr>\n",
       "    <tr>\n",
       "      <th>3</th>\n",
       "      <td>1856</td>\n",
       "      <td>4</td>\n",
       "      <td>-0.355</td>\n",
       "      <td>-0.391</td>\n",
       "      <td>-0.382</td>\n",
       "      <td>-0.399</td>\n",
       "    </tr>\n",
       "    <tr>\n",
       "      <th>4</th>\n",
       "      <td>1856</td>\n",
       "      <td>5</td>\n",
       "      <td>-0.324</td>\n",
       "      <td>-0.390</td>\n",
       "      <td>-0.382</td>\n",
       "      <td>-0.399</td>\n",
       "    </tr>\n",
       "  </tbody>\n",
       "</table>\n",
       "</div>"
      ],
      "text/plain": [
       "   Year  Month  Monthly_MSL  Linear_Trend  High_Conf  Low_Conf\n",
       "0  1856      1       -0.250        -0.391     -0.383    -0.400\n",
       "1  1856      2       -0.247        -0.391     -0.383    -0.400\n",
       "2  1856      3       -0.346        -0.391     -0.382    -0.399\n",
       "3  1856      4       -0.355        -0.391     -0.382    -0.399\n",
       "4  1856      5       -0.324        -0.390     -0.382    -0.399"
      ]
     },
     "execution_count": 7,
     "metadata": {},
     "output_type": "execute_result"
    }
   ],
   "source": [
    "# Drop columns that aren't needed for analysis\n",
    "df = df.drop(['DELETE'], axis = 1)\n",
    "df.head()"
   ]
  },
  {
   "cell_type": "code",
   "execution_count": 8,
   "id": "1ad4b7bf-7357-4bba-aa8e-566f1971e971",
   "metadata": {},
   "outputs": [
    {
     "name": "stdout",
     "output_type": "stream",
     "text": [
      "<class 'pandas.core.frame.DataFrame'>\n",
      "RangeIndex: 1817 entries, 0 to 1816\n",
      "Data columns (total 6 columns):\n",
      " #   Column        Non-Null Count  Dtype  \n",
      "---  ------        --------------  -----  \n",
      " 0   Year          1817 non-null   int64  \n",
      " 1   Month         1817 non-null   int64  \n",
      " 2   Monthly_MSL   1817 non-null   float64\n",
      " 3   Linear_Trend  1817 non-null   float64\n",
      " 4   High_Conf     1817 non-null   float64\n",
      " 5   Low_Conf      1817 non-null   float64\n",
      "dtypes: float64(4), int64(2)\n",
      "memory usage: 85.3 KB\n"
     ]
    }
   ],
   "source": [
    "# Display dataframe information\n",
    "df.info()"
   ]
  },
  {
   "cell_type": "code",
   "execution_count": 9,
   "id": "123f81ca-382a-40d6-9056-5b63f56acbe8",
   "metadata": {},
   "outputs": [
    {
     "data": {
      "text/html": [
       "<div>\n",
       "<style scoped>\n",
       "    .dataframe tbody tr th:only-of-type {\n",
       "        vertical-align: middle;\n",
       "    }\n",
       "\n",
       "    .dataframe tbody tr th {\n",
       "        vertical-align: top;\n",
       "    }\n",
       "\n",
       "    .dataframe thead th {\n",
       "        text-align: right;\n",
       "    }\n",
       "</style>\n",
       "<table border=\"1\" class=\"dataframe\">\n",
       "  <thead>\n",
       "    <tr style=\"text-align: right;\">\n",
       "      <th></th>\n",
       "      <th>Month</th>\n",
       "      <th>Monthly_MSL</th>\n",
       "      <th>Linear_Trend</th>\n",
       "      <th>High_Conf</th>\n",
       "      <th>Low_Conf</th>\n",
       "    </tr>\n",
       "    <tr>\n",
       "      <th>Year</th>\n",
       "      <th></th>\n",
       "      <th></th>\n",
       "      <th></th>\n",
       "      <th></th>\n",
       "      <th></th>\n",
       "    </tr>\n",
       "  </thead>\n",
       "  <tbody>\n",
       "    <tr>\n",
       "      <th>2022</th>\n",
       "      <td>6</td>\n",
       "      <td>0.139</td>\n",
       "      <td>0.090</td>\n",
       "      <td>0.097</td>\n",
       "      <td>0.082</td>\n",
       "    </tr>\n",
       "    <tr>\n",
       "      <th>2022</th>\n",
       "      <td>7</td>\n",
       "      <td>0.101</td>\n",
       "      <td>0.090</td>\n",
       "      <td>0.098</td>\n",
       "      <td>0.082</td>\n",
       "    </tr>\n",
       "    <tr>\n",
       "      <th>2022</th>\n",
       "      <td>8</td>\n",
       "      <td>0.114</td>\n",
       "      <td>0.090</td>\n",
       "      <td>0.098</td>\n",
       "      <td>0.082</td>\n",
       "    </tr>\n",
       "    <tr>\n",
       "      <th>2022</th>\n",
       "      <td>9</td>\n",
       "      <td>0.142</td>\n",
       "      <td>0.090</td>\n",
       "      <td>0.098</td>\n",
       "      <td>0.083</td>\n",
       "    </tr>\n",
       "    <tr>\n",
       "      <th>2022</th>\n",
       "      <td>10</td>\n",
       "      <td>0.182</td>\n",
       "      <td>0.091</td>\n",
       "      <td>0.098</td>\n",
       "      <td>0.083</td>\n",
       "    </tr>\n",
       "  </tbody>\n",
       "</table>\n",
       "</div>"
      ],
      "text/plain": [
       "      Month  Monthly_MSL  Linear_Trend  High_Conf  Low_Conf\n",
       "Year                                                       \n",
       "2022      6        0.139         0.090      0.097     0.082\n",
       "2022      7        0.101         0.090      0.098     0.082\n",
       "2022      8        0.114         0.090      0.098     0.082\n",
       "2022      9        0.142         0.090      0.098     0.083\n",
       "2022     10        0.182         0.091      0.098     0.083"
      ]
     },
     "execution_count": 9,
     "metadata": {},
     "output_type": "execute_result"
    }
   ],
   "source": [
    "# Make Year the index\n",
    "df_yr = df.set_index(['Year'])\n",
    "df_yr.tail()"
   ]
  },
  {
   "cell_type": "markdown",
   "id": "616083df-fe0f-402a-8ed8-9b70085c4f79",
   "metadata": {},
   "source": [
    "## 4) Plot monthly mean sea level by year for The Battery, New York"
   ]
  },
  {
   "cell_type": "code",
   "execution_count": 10,
   "id": "20ecb822-0caa-4a50-83de-092149674300",
   "metadata": {},
   "outputs": [
    {
     "data": {
      "image/png": "[encoded data removed]",
      "text/plain": [
       "<Figure size 1200x600 with 1 Axes>"
      ]
     },
     "metadata": {},
     "output_type": "display_data"
    }
   ],
   "source": [
    "# Plot monthly mean sea level by year\n",
    "fig, ax = plt.subplots()\n",
    "\n",
    "df_yr.Monthly_MSL.plot(color='blue', style='o', ax=ax, label='Monthly Mean Sea Level');\n",
    "df_yr.Linear_Trend.plot(color='red', ax=ax, label='Linear Relative Sea Level Trend');\n",
    "df_yr.High_Conf.plot(color='black', style='--', ax=ax, label='95% Confidence Interval');\n",
    "df_yr.Low_Conf.plot(color='black', style='--', ax=ax, label='');\n",
    "plt.text(2004,-0.58,'Source: NOAA')\n",
    "\n",
    "ax.set_ylabel('Sea Surface Elevation (meters)')\n",
    "ax.set_title('Relative Sea Level Trend: The Battery, New York')\n",
    "ax.margins(x=0)\n",
    "ax.legend(loc=2);"
   ]
  },
  {
   "cell_type": "markdown",
   "id": "e6ea1fcb-5357-4735-a5f8-c59762061083",
   "metadata": {},
   "source": [
    "The relative sea level trend is 2.89 millimeters/year with a 95% confidence\n",
    "interval of +/- 0.09 mm/yr based on monthly mean sea level data from\n",
    "1856 to 2021 which is equivalent to a change of 0.95 feet in 100 years. Source: NOAA"
   ]
  },
  {
   "cell_type": "markdown",
   "id": "82499c3f-fe89-484d-bb3c-74ebc3386891",
   "metadata": {},
   "source": [
    "## 5) Save figure of monthly mean sea level by year for The Battery, New York"
   ]
  },
  {
   "cell_type": "code",
   "execution_count": 11,
   "id": "4db53fd9-d0f9-4755-9fd0-bd64d55309e3",
   "metadata": {},
   "outputs": [],
   "source": [
    "# Save figure\n",
    "fig.savefig(\"RSL_Battery_NYC.png\", bbox_inches='tight', dpi=600)"
   ]
  },
  {
   "cell_type": "markdown",
   "id": "b5ee24e7-847f-4474-ae3a-8a0199d4e9b8",
   "metadata": {},
   "source": [
    "## 6) Make a subset DataFrame for 2022"
   ]
  },
  {
   "cell_type": "code",
   "execution_count": 12,
   "id": "3f422db9-e8ec-4163-b771-b7f133c2ff61",
   "metadata": {},
   "outputs": [
    {
     "data": {
      "text/html": [
       "<div>\n",
       "<style scoped>\n",
       "    .dataframe tbody tr th:only-of-type {\n",
       "        vertical-align: middle;\n",
       "    }\n",
       "\n",
       "    .dataframe tbody tr th {\n",
       "        vertical-align: top;\n",
       "    }\n",
       "\n",
       "    .dataframe thead th {\n",
       "        text-align: right;\n",
       "    }\n",
       "</style>\n",
       "<table border=\"1\" class=\"dataframe\">\n",
       "  <thead>\n",
       "    <tr style=\"text-align: right;\">\n",
       "      <th></th>\n",
       "      <th>Year</th>\n",
       "      <th>Month</th>\n",
       "      <th>Monthly_MSL</th>\n",
       "      <th>Linear_Trend</th>\n",
       "      <th>High_Conf</th>\n",
       "      <th>Low_Conf</th>\n",
       "    </tr>\n",
       "  </thead>\n",
       "  <tbody>\n",
       "    <tr>\n",
       "      <th>1807</th>\n",
       "      <td>2022</td>\n",
       "      <td>1</td>\n",
       "      <td>0.149</td>\n",
       "      <td>0.088</td>\n",
       "      <td>0.096</td>\n",
       "      <td>0.081</td>\n",
       "    </tr>\n",
       "    <tr>\n",
       "      <th>1808</th>\n",
       "      <td>2022</td>\n",
       "      <td>2</td>\n",
       "      <td>0.026</td>\n",
       "      <td>0.089</td>\n",
       "      <td>0.096</td>\n",
       "      <td>0.081</td>\n",
       "    </tr>\n",
       "    <tr>\n",
       "      <th>1809</th>\n",
       "      <td>2022</td>\n",
       "      <td>3</td>\n",
       "      <td>0.061</td>\n",
       "      <td>0.089</td>\n",
       "      <td>0.097</td>\n",
       "      <td>0.081</td>\n",
       "    </tr>\n",
       "    <tr>\n",
       "      <th>1810</th>\n",
       "      <td>2022</td>\n",
       "      <td>4</td>\n",
       "      <td>0.087</td>\n",
       "      <td>0.089</td>\n",
       "      <td>0.097</td>\n",
       "      <td>0.081</td>\n",
       "    </tr>\n",
       "    <tr>\n",
       "      <th>1811</th>\n",
       "      <td>2022</td>\n",
       "      <td>5</td>\n",
       "      <td>0.185</td>\n",
       "      <td>0.089</td>\n",
       "      <td>0.097</td>\n",
       "      <td>0.082</td>\n",
       "    </tr>\n",
       "    <tr>\n",
       "      <th>1812</th>\n",
       "      <td>2022</td>\n",
       "      <td>6</td>\n",
       "      <td>0.139</td>\n",
       "      <td>0.090</td>\n",
       "      <td>0.097</td>\n",
       "      <td>0.082</td>\n",
       "    </tr>\n",
       "    <tr>\n",
       "      <th>1813</th>\n",
       "      <td>2022</td>\n",
       "      <td>7</td>\n",
       "      <td>0.101</td>\n",
       "      <td>0.090</td>\n",
       "      <td>0.098</td>\n",
       "      <td>0.082</td>\n",
       "    </tr>\n",
       "    <tr>\n",
       "      <th>1814</th>\n",
       "      <td>2022</td>\n",
       "      <td>8</td>\n",
       "      <td>0.114</td>\n",
       "      <td>0.090</td>\n",
       "      <td>0.098</td>\n",
       "      <td>0.082</td>\n",
       "    </tr>\n",
       "    <tr>\n",
       "      <th>1815</th>\n",
       "      <td>2022</td>\n",
       "      <td>9</td>\n",
       "      <td>0.142</td>\n",
       "      <td>0.090</td>\n",
       "      <td>0.098</td>\n",
       "      <td>0.083</td>\n",
       "    </tr>\n",
       "    <tr>\n",
       "      <th>1816</th>\n",
       "      <td>2022</td>\n",
       "      <td>10</td>\n",
       "      <td>0.182</td>\n",
       "      <td>0.091</td>\n",
       "      <td>0.098</td>\n",
       "      <td>0.083</td>\n",
       "    </tr>\n",
       "  </tbody>\n",
       "</table>\n",
       "</div>"
      ],
      "text/plain": [
       "      Year  Month  Monthly_MSL  Linear_Trend  High_Conf  Low_Conf\n",
       "1807  2022      1        0.149         0.088      0.096     0.081\n",
       "1808  2022      2        0.026         0.089      0.096     0.081\n",
       "1809  2022      3        0.061         0.089      0.097     0.081\n",
       "1810  2022      4        0.087         0.089      0.097     0.081\n",
       "1811  2022      5        0.185         0.089      0.097     0.082\n",
       "1812  2022      6        0.139         0.090      0.097     0.082\n",
       "1813  2022      7        0.101         0.090      0.098     0.082\n",
       "1814  2022      8        0.114         0.090      0.098     0.082\n",
       "1815  2022      9        0.142         0.090      0.098     0.083\n",
       "1816  2022     10        0.182         0.091      0.098     0.083"
      ]
     },
     "execution_count": 12,
     "metadata": {},
     "output_type": "execute_result"
    }
   ],
   "source": [
    "# Make a subset dataframe for 2022\n",
    "df_2022 = df[df_yr.index == 2022]\n",
    "df_2022"
   ]
  },
  {
   "cell_type": "code",
   "execution_count": 13,
   "id": "2bb7d205-2248-4230-8547-9c9a016d3882",
   "metadata": {},
   "outputs": [
    {
     "data": {
      "text/html": [
       "<div>\n",
       "<style scoped>\n",
       "    .dataframe tbody tr th:only-of-type {\n",
       "        vertical-align: middle;\n",
       "    }\n",
       "\n",
       "    .dataframe tbody tr th {\n",
       "        vertical-align: top;\n",
       "    }\n",
       "\n",
       "    .dataframe thead th {\n",
       "        text-align: right;\n",
       "    }\n",
       "</style>\n",
       "<table border=\"1\" class=\"dataframe\">\n",
       "  <thead>\n",
       "    <tr style=\"text-align: right;\">\n",
       "      <th></th>\n",
       "      <th>Year</th>\n",
       "      <th>Month</th>\n",
       "      <th>Monthly_MSL</th>\n",
       "      <th>Linear_Trend</th>\n",
       "      <th>High_Conf</th>\n",
       "      <th>Low_Conf</th>\n",
       "    </tr>\n",
       "  </thead>\n",
       "  <tbody>\n",
       "    <tr>\n",
       "      <th>count</th>\n",
       "      <td>10.0</td>\n",
       "      <td>10.00000</td>\n",
       "      <td>10.000000</td>\n",
       "      <td>10.00000</td>\n",
       "      <td>10.000000</td>\n",
       "      <td>10.000000</td>\n",
       "    </tr>\n",
       "    <tr>\n",
       "      <th>mean</th>\n",
       "      <td>2022.0</td>\n",
       "      <td>5.50000</td>\n",
       "      <td>0.118600</td>\n",
       "      <td>0.08950</td>\n",
       "      <td>0.097200</td>\n",
       "      <td>0.081800</td>\n",
       "    </tr>\n",
       "    <tr>\n",
       "      <th>std</th>\n",
       "      <td>0.0</td>\n",
       "      <td>3.02765</td>\n",
       "      <td>0.051141</td>\n",
       "      <td>0.00085</td>\n",
       "      <td>0.000789</td>\n",
       "      <td>0.000789</td>\n",
       "    </tr>\n",
       "    <tr>\n",
       "      <th>min</th>\n",
       "      <td>2022.0</td>\n",
       "      <td>1.00000</td>\n",
       "      <td>0.026000</td>\n",
       "      <td>0.08800</td>\n",
       "      <td>0.096000</td>\n",
       "      <td>0.081000</td>\n",
       "    </tr>\n",
       "    <tr>\n",
       "      <th>25%</th>\n",
       "      <td>2022.0</td>\n",
       "      <td>3.25000</td>\n",
       "      <td>0.090500</td>\n",
       "      <td>0.08900</td>\n",
       "      <td>0.097000</td>\n",
       "      <td>0.081000</td>\n",
       "    </tr>\n",
       "    <tr>\n",
       "      <th>50%</th>\n",
       "      <td>2022.0</td>\n",
       "      <td>5.50000</td>\n",
       "      <td>0.126500</td>\n",
       "      <td>0.08950</td>\n",
       "      <td>0.097000</td>\n",
       "      <td>0.082000</td>\n",
       "    </tr>\n",
       "    <tr>\n",
       "      <th>75%</th>\n",
       "      <td>2022.0</td>\n",
       "      <td>7.75000</td>\n",
       "      <td>0.147250</td>\n",
       "      <td>0.09000</td>\n",
       "      <td>0.098000</td>\n",
       "      <td>0.082000</td>\n",
       "    </tr>\n",
       "    <tr>\n",
       "      <th>max</th>\n",
       "      <td>2022.0</td>\n",
       "      <td>10.00000</td>\n",
       "      <td>0.185000</td>\n",
       "      <td>0.09100</td>\n",
       "      <td>0.098000</td>\n",
       "      <td>0.083000</td>\n",
       "    </tr>\n",
       "  </tbody>\n",
       "</table>\n",
       "</div>"
      ],
      "text/plain": [
       "         Year     Month  Monthly_MSL  Linear_Trend  High_Conf   Low_Conf\n",
       "count    10.0  10.00000    10.000000      10.00000  10.000000  10.000000\n",
       "mean   2022.0   5.50000     0.118600       0.08950   0.097200   0.081800\n",
       "std       0.0   3.02765     0.051141       0.00085   0.000789   0.000789\n",
       "min    2022.0   1.00000     0.026000       0.08800   0.096000   0.081000\n",
       "25%    2022.0   3.25000     0.090500       0.08900   0.097000   0.081000\n",
       "50%    2022.0   5.50000     0.126500       0.08950   0.097000   0.082000\n",
       "75%    2022.0   7.75000     0.147250       0.09000   0.098000   0.082000\n",
       "max    2022.0  10.00000     0.185000       0.09100   0.098000   0.083000"
      ]
     },
     "execution_count": 13,
     "metadata": {},
     "output_type": "execute_result"
    }
   ],
   "source": [
    "# Get statistics for 2022 dataframe\n",
    "df_2022.describe()"
   ]
  },
  {
   "cell_type": "markdown",
   "id": "78d9b272-aca4-4365-b95b-cc2ab697176e",
   "metadata": {},
   "source": [
    "## 7) Compute montly mean sea level in 2022 in meters and millimeters from subset 2022 DataFrame"
   ]
  },
  {
   "cell_type": "code",
   "execution_count": 14,
   "id": "363afde2-4ec9-4f19-8126-840ff6c15532",
   "metadata": {},
   "outputs": [
    {
     "data": {
      "text/plain": [
       "0.1186"
      ]
     },
     "execution_count": 14,
     "metadata": {},
     "output_type": "execute_result"
    }
   ],
   "source": [
    "# Montly mean sea level in 2022 in meters\n",
    "msl2022_m = df_2022.Monthly_MSL.mean()\n",
    "msl2022_m"
   ]
  },
  {
   "cell_type": "code",
   "execution_count": 15,
   "id": "486f2020-16aa-455d-88d2-e1d6652093be",
   "metadata": {},
   "outputs": [
    {
     "data": {
      "text/plain": [
       "118.6"
      ]
     },
     "execution_count": 15,
     "metadata": {},
     "output_type": "execute_result"
    }
   ],
   "source": [
    "# Montly mean sea level in 2022 in millimeters\n",
    "msl2022_mm = msl2022_m * 1000\n",
    "msl2022_mm "
   ]
  },
  {
   "cell_type": "markdown",
   "id": "4ced6a87-0f71-42a0-90bc-c7b71c5da3ed",
   "metadata": {},
   "source": [
    "## 8) Calculate sea level change rates for each temperature scenario in millimeters and meters"
   ]
  },
  {
   "cell_type": "code",
   "execution_count": 16,
   "id": "7cb9561c-6099-4d06-833d-4cd7b343592d",
   "metadata": {},
   "outputs": [
    {
     "name": "stdout",
     "output_type": "stream",
     "text": [
      "9.137647058823529\n",
      "9.794117647058822\n",
      "8.563529411764707\n"
     ]
    }
   ],
   "source": [
    "# Calculate sea level change rates for 85 year difference (2015-2100) in millimeters\n",
    "\n",
    "# 9.71 K (1)\n",
    "SLC_NY_1_mm = 0.7767/85*1000\n",
    "SLC_Nome_1_mm = 1.7740/85*1000\n",
    "SLC_Yakutat_1_mm = 1.5582/85*1000\n",
    "print(SLC_NY_1_mm)\n",
    "\n",
    "# 13.91 K (2)\n",
    "SLC_NY_2_mm = 0.8325/85*1000\n",
    "SLC_Nome_2_mm = 1.8330/85*1000\n",
    "SLC_Yakutat_1_mm = 1.6141/85*1000\n",
    "print(SLC_NY_2_mm)\n",
    "\n",
    "# 6.33 K (3)\n",
    "SLC_NY_3_mm = 0.7279/85*1000\n",
    "SLC_Nome_3_mm = 1.6649/85*1000\n",
    "SLC_Yakutat_1_mm = 1.4638/85*1000\n",
    "print(SLC_NY_3_mm)"
   ]
  },
  {
   "cell_type": "markdown",
   "id": "d47c91d6-1d81-454c-86fe-bef1d31f9af0",
   "metadata": {},
   "source": [
    "## Calculated Sea Level Change Rates from Greenland Ice Sheet (GrIS) melt, 2022-2100, in different CMIP6 Temperature Projections\n",
    "For the mean, 95th percentile, and 5th percentile projected temperature changes, a time window from the Holocene is determined that has a similar temperature increase to each CMIP6 projection. The magnitude of the sea level change was calculated for each of these time windows in our locations of interest, and a rate of sea level rise was computed for each temperature scenario by dividing the magnitude for each temperature scenario by 85 years (the time period used in the CMIP6 projections).\n",
    "\n",
    "| CMIP6 SSP5-8.5 | Corresponding Holocene time interval | New York, NY | Nome, AK |\n",
    "| --- | --- | --- | --- |\n",
    "| Mean of projected warming, 9.71 K | 11.5 - 8 ka | 9.14 mm/yr | 20.87 mm/yr |\n",
    "| 95th percentile of projected warming, 13.91 K | 12 - 7.5 ka | 9.79 mm/yr | 21.56 mm/yr |\n",
    "| 5th percentile of projected warming, 6.33 K | 11 - 8 ka | 8.56 mm/yr |  19.59 mm/yr |\n",
    "\n",
    "\n",
    "## Sea level change rate between 11.5 and 8 ka (9.71 K):\n",
    "- NY: 9.14 mm/yr\n",
    "- Nome: 20.87 mm/yr\n",
    "- Yakutat: 18.33 mm/yr\n",
    "\n",
    "## Sea level change rate between 12 and 7.5 ka (13.91 K):\n",
    "- NY: 9.79 mm/yr\n",
    "- Nome: 21.56 mm/yr\n",
    "- Yakutat: 18.99 mm/yr\n",
    "\n",
    "## Sea level change rate between 11 and 8 ka (6.33 K):\n",
    "- NY: 8.56 mm/yr\n",
    "- Nome: 19.59 mm/yr\n",
    "- Yakutat: 17.22 mm/yr"
   ]
  },
  {
   "cell_type": "code",
   "execution_count": 17,
   "id": "df1c5f92-3f61-4181-ad8f-96cf8d99da80",
   "metadata": {},
   "outputs": [
    {
     "name": "stdout",
     "output_type": "stream",
     "text": [
      "0.009137647058823528\n",
      "0.009794117647058823\n",
      "0.008563529411764706\n"
     ]
    }
   ],
   "source": [
    "# Calculate sea level change rates for 85 year difference (2015-2100) in meters\n",
    "\n",
    "# 9.71 K (1)\n",
    "#SLC_NY_1_mm = 10.356 #mm/yr #wrong 75 yrs instead of 85 yrs\n",
    "SLC_NY_1_m = SLC_NY_1_mm/1000\n",
    "print(SLC_NY_1_m)\n",
    "\n",
    "# 13.91 K (2)\n",
    "#SLC_NY_2_mm = 11.1 #mm/yr #wrong 75 yrs instead of 85 yrs\n",
    "SLC_NY_2_m = SLC_NY_2_mm/1000\n",
    "print(SLC_NY_2_m)\n",
    "\n",
    "# 6.33 K (3) \n",
    "#SLC_NY_3_mm = 9.705 #mm/yr #wrong 75 yrs instead of 85 yrs\n",
    "SLC_NY_3_m = SLC_NY_3_mm/1000\n",
    "print(SLC_NY_3_m)"
   ]
  },
  {
   "cell_type": "markdown",
   "id": "1d611f58-fd7e-4b00-84aa-3d7bd8eae0e3",
   "metadata": {},
   "source": [
    "## 9) Calculate sea level change from 2022 to 2100 in meters and feet for each temperature scenario"
   ]
  },
  {
   "cell_type": "code",
   "execution_count": 18,
   "id": "16fabebe-20a0-46ae-abfc-010f04a6f57c",
   "metadata": {},
   "outputs": [
    {
     "data": {
      "text/plain": [
       "78.0"
      ]
     },
     "execution_count": 18,
     "metadata": {},
     "output_type": "execute_result"
    }
   ],
   "source": [
    "# Calculate number of years to 2100\n",
    "yr_min = df.iloc[df.index.min()].Year\n",
    "yr_max = df.iloc[df.index.max()].Year\n",
    "\n",
    "del_yr = 2100 - yr_max\n",
    "del_yr"
   ]
  },
  {
   "cell_type": "code",
   "execution_count": 19,
   "id": "7d1281cd-fe4a-4b62-b715-657487069f0d",
   "metadata": {},
   "outputs": [
    {
     "data": {
      "text/plain": [
       "2022.0"
      ]
     },
     "execution_count": 19,
     "metadata": {},
     "output_type": "execute_result"
    }
   ],
   "source": [
    "# Display max year\n",
    "yr_max = df.iloc[df.index.max()].Year\n",
    "yr_max"
   ]
  },
  {
   "cell_type": "code",
   "execution_count": 20,
   "id": "bf479119-74a3-4872-8324-1f4b30b81470",
   "metadata": {},
   "outputs": [
    {
     "data": {
      "text/plain": [
       "0.7127364705882352"
      ]
     },
     "execution_count": 20,
     "metadata": {},
     "output_type": "execute_result"
    }
   ],
   "source": [
    "# Sea level change 2022 to 2100 (1) in m\n",
    "SLC_1_mm = del_yr * SLC_NY_1_mm\n",
    "SLC_1_m = SLC_1_mm /1000\n",
    "SLC_1_m"
   ]
  },
  {
   "cell_type": "code",
   "execution_count": 21,
   "id": "a460d294-1052-40d7-a76f-06e9aa53bdfa",
   "metadata": {},
   "outputs": [
    {
     "data": {
      "text/plain": [
       "2.33848836"
      ]
     },
     "execution_count": 21,
     "metadata": {},
     "output_type": "execute_result"
    }
   ],
   "source": [
    "# Sea level change 2022 to 2100 (1) in ft\n",
    "SLC_1_ft = SLC_1_m * 3.281\n",
    "SLC_1_ft"
   ]
  },
  {
   "cell_type": "code",
   "execution_count": 22,
   "id": "9df158ef-0cb6-49ad-af2c-ea5a139afdd1",
   "metadata": {},
   "outputs": [
    {
     "data": {
      "text/plain": [
       "0.7639411764705881"
      ]
     },
     "execution_count": 22,
     "metadata": {},
     "output_type": "execute_result"
    }
   ],
   "source": [
    "# Sea level change 2022 to 2100 (2) in m\n",
    "SLC_2_mm = del_yr * SLC_NY_2_mm\n",
    "SLC_2_m = SLC_2_mm /1000\n",
    "SLC_2_m"
   ]
  },
  {
   "cell_type": "code",
   "execution_count": 23,
   "id": "be682791-0df4-4897-8253-12df2b4ae325",
   "metadata": {},
   "outputs": [
    {
     "data": {
      "text/plain": [
       "2.5064909999999996"
      ]
     },
     "execution_count": 23,
     "metadata": {},
     "output_type": "execute_result"
    }
   ],
   "source": [
    "# Sea level change 2022 to 2100 (2) in ft\n",
    "SLC_2_ft = SLC_2_m * 3.281\n",
    "SLC_2_ft"
   ]
  },
  {
   "cell_type": "code",
   "execution_count": 24,
   "id": "114ceb26-7d41-46de-96ec-ba959f1317b8",
   "metadata": {},
   "outputs": [
    {
     "data": {
      "text/plain": [
       "0.6679552941176471"
      ]
     },
     "execution_count": 24,
     "metadata": {},
     "output_type": "execute_result"
    }
   ],
   "source": [
    "# Sea level change 2022 to 2100 (3) in m\n",
    "SLC_3_mm = del_yr * SLC_NY_3_mm\n",
    "SLC_3_m = SLC_3_mm /1000\n",
    "SLC_3_m"
   ]
  },
  {
   "cell_type": "code",
   "execution_count": 25,
   "id": "fa52409e-ab25-4c75-8644-2ff2d66aa8c6",
   "metadata": {},
   "outputs": [
    {
     "data": {
      "text/plain": [
       "2.1915613200000004"
      ]
     },
     "execution_count": 25,
     "metadata": {},
     "output_type": "execute_result"
    }
   ],
   "source": [
    "# Sea level change 2022 to 2100 (3) in ft\n",
    "SLC_3_ft = SLC_3_m * 3.281\n",
    "SLC_3_ft"
   ]
  },
  {
   "cell_type": "markdown",
   "id": "5606f457-70d4-418e-b759-46756b159295",
   "metadata": {},
   "source": [
    "## 10) Calculate projected sea level in 2100 in meters and feet for each temperature scenario based on our calculated sea level change rates"
   ]
  },
  {
   "cell_type": "code",
   "execution_count": 26,
   "id": "e003b8d3-74eb-494a-9fe1-3d7ff59940c2",
   "metadata": {},
   "outputs": [
    {
     "data": {
      "text/plain": [
       "0.8313364705882352"
      ]
     },
     "execution_count": 26,
     "metadata": {},
     "output_type": "execute_result"
    }
   ],
   "source": [
    "# Calculate 2100 sea level for scenario 1 in m\n",
    "SL_2100_1 = msl2022_m + SLC_1_m\n",
    "SL_2100_1"
   ]
  },
  {
   "cell_type": "code",
   "execution_count": 27,
   "id": "7139bff1-fe91-4997-82ba-d72b9baf28f0",
   "metadata": {},
   "outputs": [
    {
     "data": {
      "text/plain": [
       "2.72761496"
      ]
     },
     "execution_count": 27,
     "metadata": {},
     "output_type": "execute_result"
    }
   ],
   "source": [
    "# Calculate 2100 sea level for scenario 1 in ft\n",
    "SL_2100_1_ft = SL_2100_1 * 3.281\n",
    "SL_2100_1_ft"
   ]
  },
  {
   "cell_type": "code",
   "execution_count": 28,
   "id": "cd2a0577-5b74-4897-a4cd-a3fa5b9f9705",
   "metadata": {},
   "outputs": [
    {
     "data": {
      "text/plain": [
       "0.8825411764705882"
      ]
     },
     "execution_count": 28,
     "metadata": {},
     "output_type": "execute_result"
    }
   ],
   "source": [
    "# Calculate 2100 sea level for scenario 2 in m\n",
    "SL_2100_2 = msl2022_m + SLC_2_m\n",
    "SL_2100_2"
   ]
  },
  {
   "cell_type": "code",
   "execution_count": 29,
   "id": "c787190a-5fcc-4f6c-acdf-3c3f8ac29eee",
   "metadata": {},
   "outputs": [
    {
     "data": {
      "text/plain": [
       "2.8956176"
      ]
     },
     "execution_count": 29,
     "metadata": {},
     "output_type": "execute_result"
    }
   ],
   "source": [
    "# Calculate 2100 sea level for scenario 2 in ft\n",
    "SL_2100_2_ft = SL_2100_2 * 3.281\n",
    "SL_2100_2_ft"
   ]
  },
  {
   "cell_type": "code",
   "execution_count": 30,
   "id": "31d93a49-11a6-45f7-b6ed-ffbb1737fb87",
   "metadata": {},
   "outputs": [
    {
     "data": {
      "text/plain": [
       "0.7865552941176471"
      ]
     },
     "execution_count": 30,
     "metadata": {},
     "output_type": "execute_result"
    }
   ],
   "source": [
    "# Calculate 2100 sea level for scenario 3 in m\n",
    "SL_2100_3 = msl2022_m + SLC_3_m\n",
    "SL_2100_3"
   ]
  },
  {
   "cell_type": "code",
   "execution_count": 31,
   "id": "79475d7a-80d2-4955-ab88-0c56514d1e39",
   "metadata": {},
   "outputs": [
    {
     "data": {
      "text/plain": [
       "2.5806879200000004"
      ]
     },
     "execution_count": 31,
     "metadata": {},
     "output_type": "execute_result"
    }
   ],
   "source": [
    "# Calculate 2100 sea level for scenario 3 in ft\n",
    "SL_2100_3_ft = SL_2100_3 * 3.281\n",
    "SL_2100_3_ft"
   ]
  },
  {
   "cell_type": "markdown",
   "id": "a7bacd50-9145-40ca-be2e-bb3b16b04d8e",
   "metadata": {},
   "source": [
    "## 11) Make arrays of years from 2022 to 2100"
   ]
  },
  {
   "cell_type": "code",
   "execution_count": 32,
   "id": "71d0efb8-c63b-4625-bd2d-975f62b88e89",
   "metadata": {},
   "outputs": [
    {
     "data": {
      "text/plain": [
       "array([2022., 2023., 2024., 2025., 2026., 2027., 2028., 2029., 2030.,\n",
       "       2031., 2032., 2033., 2034., 2035., 2036., 2037., 2038., 2039.,\n",
       "       2040., 2041., 2042., 2043., 2044., 2045., 2046., 2047., 2048.,\n",
       "       2049., 2050., 2051., 2052., 2053., 2054., 2055., 2056., 2057.,\n",
       "       2058., 2059., 2060., 2061., 2062., 2063., 2064., 2065., 2066.,\n",
       "       2067., 2068., 2069., 2070., 2071., 2072., 2073., 2074., 2075.,\n",
       "       2076., 2077., 2078., 2079., 2080., 2081., 2082., 2083., 2084.,\n",
       "       2085., 2086., 2087., 2088., 2089., 2090., 2091., 2092., 2093.,\n",
       "       2094., 2095., 2096., 2097., 2098., 2099., 2100.])"
      ]
     },
     "execution_count": 32,
     "metadata": {},
     "output_type": "execute_result"
    }
   ],
   "source": [
    "# Make array of years from 2022 to 2100\n",
    "proj_yrs = np.linspace(2022, 2100, 79)\n",
    "proj_yrs"
   ]
  },
  {
   "cell_type": "markdown",
   "id": "8c35ab8d-efd2-4972-b8bc-721da77a35b5",
   "metadata": {},
   "source": [
    "## 12) Make arrays of sea level change from 2022 to 2100 in meters for each temperature scenario"
   ]
  },
  {
   "cell_type": "code",
   "execution_count": 33,
   "id": "eb3137a4-cda8-4768-86e0-e3038e47475e",
   "metadata": {},
   "outputs": [
    {
     "data": {
      "text/plain": [
       "array([0.1186    , 0.12773765, 0.13687529, 0.14601294, 0.15515059,\n",
       "       0.16428824, 0.17342588, 0.18256353, 0.19170118, 0.20083882,\n",
       "       0.20997647, 0.21911412, 0.22825176, 0.23738941, 0.24652706,\n",
       "       0.25566471, 0.26480235, 0.27394   , 0.28307765, 0.29221529,\n",
       "       0.30135294, 0.31049059, 0.31962824, 0.32876588, 0.33790353,\n",
       "       0.34704118, 0.35617882, 0.36531647, 0.37445412, 0.38359176,\n",
       "       0.39272941, 0.40186706, 0.41100471, 0.42014235, 0.42928   ,\n",
       "       0.43841765, 0.44755529, 0.45669294, 0.46583059, 0.47496824,\n",
       "       0.48410588, 0.49324353, 0.50238118, 0.51151882, 0.52065647,\n",
       "       0.52979412, 0.53893176, 0.54806941, 0.55720706, 0.56634471,\n",
       "       0.57548235, 0.58462   , 0.59375765, 0.60289529, 0.61203294,\n",
       "       0.62117059, 0.63030824, 0.63944588, 0.64858353, 0.65772118,\n",
       "       0.66685882, 0.67599647, 0.68513412, 0.69427176, 0.70340941,\n",
       "       0.71254706, 0.72168471, 0.73082235, 0.73996   , 0.74909765,\n",
       "       0.75823529, 0.76737294, 0.77651059, 0.78564824, 0.79478588,\n",
       "       0.80392353, 0.81306118, 0.82219882, 0.83133647])"
      ]
     },
     "execution_count": 33,
     "metadata": {},
     "output_type": "execute_result"
    }
   ],
   "source": [
    "# Make array of SLC from 2022 to 2100 for scenario 1\n",
    "proj_1_slc = np.linspace(msl2022_m, SL_2100_1, 79)\n",
    "proj_1_slc"
   ]
  },
  {
   "cell_type": "code",
   "execution_count": 34,
   "id": "a4858b63-ffda-4a17-9e52-2d75009935c9",
   "metadata": {},
   "outputs": [
    {
     "data": {
      "text/plain": [
       "array([0.1186    , 0.12839412, 0.13818824, 0.14798235, 0.15777647,\n",
       "       0.16757059, 0.17736471, 0.18715882, 0.19695294, 0.20674706,\n",
       "       0.21654118, 0.22633529, 0.23612941, 0.24592353, 0.25571765,\n",
       "       0.26551176, 0.27530588, 0.2851    , 0.29489412, 0.30468824,\n",
       "       0.31448235, 0.32427647, 0.33407059, 0.34386471, 0.35365882,\n",
       "       0.36345294, 0.37324706, 0.38304118, 0.39283529, 0.40262941,\n",
       "       0.41242353, 0.42221765, 0.43201176, 0.44180588, 0.4516    ,\n",
       "       0.46139412, 0.47118824, 0.48098235, 0.49077647, 0.50057059,\n",
       "       0.51036471, 0.52015882, 0.52995294, 0.53974706, 0.54954118,\n",
       "       0.55933529, 0.56912941, 0.57892353, 0.58871765, 0.59851176,\n",
       "       0.60830588, 0.6181    , 0.62789412, 0.63768824, 0.64748235,\n",
       "       0.65727647, 0.66707059, 0.67686471, 0.68665882, 0.69645294,\n",
       "       0.70624706, 0.71604118, 0.72583529, 0.73562941, 0.74542353,\n",
       "       0.75521765, 0.76501176, 0.77480588, 0.7846    , 0.79439412,\n",
       "       0.80418824, 0.81398235, 0.82377647, 0.83357059, 0.84336471,\n",
       "       0.85315882, 0.86295294, 0.87274706, 0.88254118])"
      ]
     },
     "execution_count": 34,
     "metadata": {},
     "output_type": "execute_result"
    }
   ],
   "source": [
    "# Make array of SLC from 2022 to 2100 for scenario 2\n",
    "proj_2_slc = np.linspace(msl2022_m, SL_2100_2, 79)\n",
    "proj_2_slc"
   ]
  },
  {
   "cell_type": "code",
   "execution_count": 35,
   "id": "bf655a16-4a6b-4807-9013-5a6084ba1aef",
   "metadata": {},
   "outputs": [
    {
     "data": {
      "text/plain": [
       "array([0.1186    , 0.12716353, 0.13572706, 0.14429059, 0.15285412,\n",
       "       0.16141765, 0.16998118, 0.17854471, 0.18710824, 0.19567176,\n",
       "       0.20423529, 0.21279882, 0.22136235, 0.22992588, 0.23848941,\n",
       "       0.24705294, 0.25561647, 0.26418   , 0.27274353, 0.28130706,\n",
       "       0.28987059, 0.29843412, 0.30699765, 0.31556118, 0.32412471,\n",
       "       0.33268824, 0.34125176, 0.34981529, 0.35837882, 0.36694235,\n",
       "       0.37550588, 0.38406941, 0.39263294, 0.40119647, 0.40976   ,\n",
       "       0.41832353, 0.42688706, 0.43545059, 0.44401412, 0.45257765,\n",
       "       0.46114118, 0.46970471, 0.47826824, 0.48683176, 0.49539529,\n",
       "       0.50395882, 0.51252235, 0.52108588, 0.52964941, 0.53821294,\n",
       "       0.54677647, 0.55534   , 0.56390353, 0.57246706, 0.58103059,\n",
       "       0.58959412, 0.59815765, 0.60672118, 0.61528471, 0.62384824,\n",
       "       0.63241176, 0.64097529, 0.64953882, 0.65810235, 0.66666588,\n",
       "       0.67522941, 0.68379294, 0.69235647, 0.70092   , 0.70948353,\n",
       "       0.71804706, 0.72661059, 0.73517412, 0.74373765, 0.75230118,\n",
       "       0.76086471, 0.76942824, 0.77799176, 0.78655529])"
      ]
     },
     "execution_count": 35,
     "metadata": {},
     "output_type": "execute_result"
    }
   ],
   "source": [
    "# Make array of SLC from 2022 to 2100 for scenario 3\n",
    "proj_3_slc = np.linspace(msl2022_m, SL_2100_3, 79)\n",
    "proj_3_slc"
   ]
  },
  {
   "cell_type": "markdown",
   "id": "e0243ccd-1bae-473b-badd-fa91930ea141",
   "metadata": {},
   "source": [
    "## 13) Plot monthly mean sea level by year with projected relative sea level change from GrIS for The Battery, New York"
   ]
  },
  {
   "cell_type": "code",
   "execution_count": 36,
   "id": "4f2ef65b-51c3-42ae-8f04-569f5aff6ba2",
   "metadata": {},
   "outputs": [
    {
     "data": {
      "image/png": "[encoded data removed]",
      "text/plain": [
       "<Figure size 1200x600 with 1 Axes>"
      ]
     },
     "metadata": {},
     "output_type": "display_data"
    }
   ],
   "source": [
    "# Plot monthly mean sea level by year with projected relative sea level change from GrIS for The Battery, New York\n",
    "fig, ax = plt.subplots()\n",
    "\n",
    "df_yr.Monthly_MSL.plot(color='blue', style='o', ax=ax, label='Monthly Mean Sea Level');\n",
    "df_yr.Linear_Trend.plot(color='red', ax=ax, label='Linear Relative Sea Level Trend');\n",
    "df_yr.High_Conf.plot(color='black', style='--', ax=ax, label='95% Confidence Interval');\n",
    "df_yr.Low_Conf.plot(color='black', style='--', ax=ax, label='');\n",
    "\n",
    "ax.set_ylabel('Sea Surface Elevation (meters)')\n",
    "ax.set_title('Relative Sea Level Trend: The Batter, New York')\n",
    "ax.margins(x=0)\n",
    "ax.legend(loc=2);\n",
    "\n",
    "ax.plot(proj_yrs, proj_1_slc, color='magenta', label='9.71 K: 9.14 mm/yr')\n",
    "ax.plot(proj_yrs, proj_2_slc, color='purple', label='13.91 K: 9.79 mm/yr')\n",
    "ax.plot(proj_yrs, proj_3_slc, color='green', label='6.33 K: 8.56 mm/yr')\n",
    "\n",
    "ax.plot(proj_yrs[78], proj_1_slc[78], 'o', markersize=10, color='magenta', label='')\n",
    "ax.plot(proj_yrs[78], proj_2_slc[78], 'o', markersize=10, color='purple', label='')\n",
    "ax.plot(proj_yrs[78], proj_3_slc[78], 'o', markersize=10, color='green', label='')\n",
    "\n",
    "plt.text(2076,-0.6,'Source: NOAA')\n",
    "\n",
    "ax.set_ylabel('Sea Surface Elevation (meters)')\n",
    "ax.set_title('Projected Relative Sea Level Change from GrIS: The Battery, New York')\n",
    "ax.set_xlim(1856, 2103)\n",
    "ax.margins(x=0)\n",
    "ax.legend(loc=2);"
   ]
  },
  {
   "cell_type": "markdown",
   "id": "2b3c751e-0f61-40f4-be49-f08981f62438",
   "metadata": {},
   "source": [
    "## 14) Save figure of monthly mean sea level by year for The Battery, New York with projected relative sea level change from GrIS"
   ]
  },
  {
   "cell_type": "code",
   "execution_count": 37,
   "id": "71ebbdc8-6f59-4dd5-aa04-0792fc1da1f6",
   "metadata": {},
   "outputs": [],
   "source": [
    "# Save figure\n",
    "fig.savefig(\"SLC_2100_Battery-NY.png\", bbox_inches='tight', dpi=600)"
   ]
  },
  {
   "cell_type": "markdown",
   "id": "fb5715b9-6a9e-4f76-ad6d-d34786f9c3ec",
   "metadata": {},
   "source": [
    "## 15) Plot projected relative sea level change from GrIS for The Battery, New York"
   ]
  },
  {
   "cell_type": "code",
   "execution_count": 38,
   "id": "b75317b1-3770-4bec-90c5-588bd6c4eb60",
   "metadata": {},
   "outputs": [
    {
     "data": {
      "image/png": "[encoded data removed]",
      "text/plain": [
       "<Figure size 1200x600 with 1 Axes>"
      ]
     },
     "metadata": {},
     "output_type": "display_data"
    }
   ],
   "source": [
    "# Plot projected relative sea level change from GrIS for The Battery, New York\n",
    "fig, ax = plt.subplots()\n",
    "\n",
    "ax.plot(proj_yrs, proj_1_slc, color='magenta', label='9.71 K: 9.14 mm/yr')\n",
    "ax.plot(proj_yrs, proj_2_slc, color='purple', label='13.91 K: 9.79 mm/yr')\n",
    "ax.plot(proj_yrs, proj_3_slc, color='green', label='6.33 K: 8.56 mm/yr')\n",
    "\n",
    "ax.plot(proj_yrs[78], proj_1_slc[78], 'o', markersize=10, color='magenta', label='')\n",
    "ax.plot(proj_yrs[78], proj_2_slc[78], 'o', markersize=10, color='purple', label='')\n",
    "ax.plot(proj_yrs[78], proj_3_slc[78], 'o', markersize=10, color='green', label='')\n",
    "\n",
    "ax.set_ylabel('Sea Surface Elevation (meters)')\n",
    "ax.set_xlabel('Year')\n",
    "ax.set_title('Projected Relative Sea Level Change from GrIS: The Battery, New York')\n",
    "ax.set_xlim(2022, 2101)\n",
    "ax.margins(x=0)\n",
    "ax.legend(loc=2);"
   ]
  },
  {
   "cell_type": "markdown",
   "id": "ea705d8c-1893-43a1-81e7-79d31af28e68",
   "metadata": {},
   "source": [
    "## 16) Save figure of projected relative sea level change from GrIS for The Battery, New York"
   ]
  },
  {
   "cell_type": "code",
   "execution_count": 39,
   "id": "44a05efe-a9ef-4af3-b868-689cae22e053",
   "metadata": {},
   "outputs": [],
   "source": [
    "# Save figure\n",
    "fig.savefig(\"SLC_2022-2100_Battery-NY.png\", bbox_inches='tight', dpi=600)"
   ]
  },
  {
   "cell_type": "code",
   "execution_count": null,
   "id": "ad73368b-1c8b-4c79-8c31-46967bbe2673",
   "metadata": {},
   "outputs": [],
   "source": []
  }
 ],
 "metadata": {
  "kernelspec": {
   "display_name": "Python 3 (ipykernel)",
   "language": "python",
   "name": "python3"
  },
  "language_info": {
   "codemirror_mode": {
    "name": "ipython",
    "version": 3
   },
   "file_extension": ".py",
   "mimetype": "text/x-python",
   "name": "python",
   "nbconvert_exporter": "python",
   "pygments_lexer": "ipython3",
   "version": "3.9.13"
  }
 },
 "nbformat": 4,
 "nbformat_minor": 5
}
