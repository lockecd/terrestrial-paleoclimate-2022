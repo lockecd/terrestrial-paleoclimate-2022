{
 "cells": [
  {
   "cell_type": "markdown",
   "id": "0ab85b59-da7f-4cc2-8670-3cc667bdd618",
   "metadata": {},
   "source": [
    "# Using Holocene Warming as an Analog for Impacts of Future Warming on the Greenland Ice Sheet and Coastal Communities\n",
    "\n",
    "Caitlin Locke <br />\n",
    "Terrestrial Paleoclimate Final Project <br />\n",
    "Fall 2022 <br />\n",
    "\n",
    "Team Members: Sam Chester, Emily Glazer, Jaewon Lee, Lauren Lewright  <br />\n",
    "\n",
    "## Background\n",
    "\n",
    "Future projections of sea level are important for understanding how vulnerable coastal communities will be affected worldwide. In this project, we evaluated the impact of climate change on coastal communities by using the Holocene Thermal Maximum (HTM) as an analog for future warming, as predicted by Climate Model Intercomparison Project Phase 6 (CMIP6). We examined changes in sea level worldwide due to Greenland Ice Sheet (GrIS) thickness changes through the Holocene using Jacky Austermann’s sea level model and examined our model outputs, along with National Oceanic and Atmospheric Administration (NOAA) tide gauge data."
   ]
  },
  {
   "cell_type": "markdown",
   "id": "cdb3f995-bd40-428a-a190-bf110abca8ca",
   "metadata": {},
   "source": [
    "## 1) Import python libraries and packages.\n",
    "Import Numpy, Pandas, Matplotlib, Xarray, and Cartopy python libraries and packages. Set the default figure size to (12, 6)."
   ]
  },
  {
   "cell_type": "code",
   "execution_count": 1,
   "id": "a428d804-5d34-4de8-8b5d-fca6425fa1e7",
   "metadata": {},
   "outputs": [],
   "source": [
    "# import Python packages and libraries \n",
    "import numpy as np\n",
    "import pandas as pd\n",
    "from matplotlib import pyplot as plt\n",
    "import xarray as xr\n",
    "import cartopy\n",
    "import cartopy.crs as ccrs\n",
    "import cartopy.feature as cfeature\n",
    "import warnings\n",
    "warnings.filterwarnings(\"ignore\")\n",
    "plt.rcParams['figure.figsize'] = (12,6) # set the default figure size"
   ]
  },
  {
   "cell_type": "markdown",
   "id": "dd1de76c-866c-4f5e-9796-be102011518d",
   "metadata": {},
   "source": [
    "## 2) Load data from NOAA Tides and Currents website\n",
    "This dataset contains local relative sea level (RSL) trends based on monthly mean sea level data collected by tide gauges. The tide gauge data for this project are from the National Water Level Observation Network (NWLON), which is a permanent network of water level monitoring stations throughout the United States maintained by NOAA."
   ]
  },
  {
   "cell_type": "code",
   "execution_count": 2,
   "id": "d9531573-44f6-4dab-bef9-57f9030e34b5",
   "metadata": {},
   "outputs": [
    {
     "data": {
      "text/html": [
       "<div>\n",
       "<style scoped>\n",
       "    .dataframe tbody tr th:only-of-type {\n",
       "        vertical-align: middle;\n",
       "    }\n",
       "\n",
       "    .dataframe tbody tr th {\n",
       "        vertical-align: top;\n",
       "    }\n",
       "\n",
       "    .dataframe thead th {\n",
       "        text-align: right;\n",
       "    }\n",
       "</style>\n",
       "<table border=\"1\" class=\"dataframe\">\n",
       "  <thead>\n",
       "    <tr style=\"text-align: right;\">\n",
       "      <th></th>\n",
       "      <th>Year</th>\n",
       "      <th>Month</th>\n",
       "      <th>Monthly_MSL</th>\n",
       "      <th>Linear_Trend</th>\n",
       "      <th>High_Conf.</th>\n",
       "      <th>Low_Conf.</th>\n",
       "    </tr>\n",
       "  </thead>\n",
       "  <tbody>\n",
       "    <tr>\n",
       "      <th>1992</th>\n",
       "      <td>10</td>\n",
       "      <td>-0.017</td>\n",
       "      <td>-0.057</td>\n",
       "      <td>-0.012</td>\n",
       "      <td>-0.103</td>\n",
       "      <td>NaN</td>\n",
       "    </tr>\n",
       "    <tr>\n",
       "      <th>1993</th>\n",
       "      <td>1</td>\n",
       "      <td>0.122</td>\n",
       "      <td>-0.056</td>\n",
       "      <td>-0.012</td>\n",
       "      <td>-0.101</td>\n",
       "      <td>NaN</td>\n",
       "    </tr>\n",
       "    <tr>\n",
       "      <th>1993</th>\n",
       "      <td>2</td>\n",
       "      <td>0.091</td>\n",
       "      <td>-0.056</td>\n",
       "      <td>-0.011</td>\n",
       "      <td>-0.101</td>\n",
       "      <td>NaN</td>\n",
       "    </tr>\n",
       "    <tr>\n",
       "      <th>1993</th>\n",
       "      <td>3</td>\n",
       "      <td>0.122</td>\n",
       "      <td>-0.056</td>\n",
       "      <td>-0.011</td>\n",
       "      <td>-0.100</td>\n",
       "      <td>NaN</td>\n",
       "    </tr>\n",
       "    <tr>\n",
       "      <th>1993</th>\n",
       "      <td>4</td>\n",
       "      <td>0.068</td>\n",
       "      <td>-0.055</td>\n",
       "      <td>-0.011</td>\n",
       "      <td>-0.100</td>\n",
       "      <td>NaN</td>\n",
       "    </tr>\n",
       "  </tbody>\n",
       "</table>\n",
       "</div>"
      ],
      "text/plain": [
       "      Year   Month   Monthly_MSL   Linear_Trend   High_Conf.   Low_Conf.\n",
       "1992    10  -0.017        -0.057         -0.012       -0.103         NaN\n",
       "1993     1   0.122        -0.056         -0.012       -0.101         NaN\n",
       "1993     2   0.091        -0.056         -0.011       -0.101         NaN\n",
       "1993     3   0.122        -0.056         -0.011       -0.100         NaN\n",
       "1993     4   0.068        -0.055         -0.011       -0.100         NaN"
      ]
     },
     "execution_count": 2,
     "metadata": {},
     "output_type": "execute_result"
    }
   ],
   "source": [
    "# Load data from NOAA Tides and Currents website for Nome, AK (https://tidesandcurrents.noaa.gov/sltrends/sltrends_station.shtml?id=9468756)\n",
    "url = 'https://tidesandcurrents.noaa.gov/sltrends/data/9468756_meantrend.csv'\n",
    "df = pd.read_csv(url)\n",
    "df.head()\n",
    "\n",
    "# # load data from local file\n",
    "# file_path = '8518750_meantrend.csv'\n",
    "# df = pd.read_csv(file_path)\n",
    "# df.head()"
   ]
  },
  {
   "cell_type": "markdown",
   "id": "69fddd85-396d-49ee-8f55-7bdeb90115ff",
   "metadata": {},
   "source": [
    "# 3) Clean NOAA Tide Data\n",
    "1. Add DataFrame index\n",
    "1. Rename column names and drop columns that aren't needed.\n",
    "1. Change the DataFrame index to Year"
   ]
  },
  {
   "cell_type": "code",
   "execution_count": 3,
   "id": "a43dc4eb-cf29-4d80-9e96-73bdfab9a44d",
   "metadata": {},
   "outputs": [
    {
     "data": {
      "text/html": [
       "<div>\n",
       "<style scoped>\n",
       "    .dataframe tbody tr th:only-of-type {\n",
       "        vertical-align: middle;\n",
       "    }\n",
       "\n",
       "    .dataframe tbody tr th {\n",
       "        vertical-align: top;\n",
       "    }\n",
       "\n",
       "    .dataframe thead th {\n",
       "        text-align: right;\n",
       "    }\n",
       "</style>\n",
       "<table border=\"1\" class=\"dataframe\">\n",
       "  <thead>\n",
       "    <tr style=\"text-align: right;\">\n",
       "      <th></th>\n",
       "      <th>index</th>\n",
       "      <th>Year</th>\n",
       "      <th>Month</th>\n",
       "      <th>Monthly_MSL</th>\n",
       "      <th>Linear_Trend</th>\n",
       "      <th>High_Conf.</th>\n",
       "      <th>Low_Conf.</th>\n",
       "    </tr>\n",
       "  </thead>\n",
       "  <tbody>\n",
       "    <tr>\n",
       "      <th>0</th>\n",
       "      <td>1992</td>\n",
       "      <td>10</td>\n",
       "      <td>-0.017</td>\n",
       "      <td>-0.057</td>\n",
       "      <td>-0.012</td>\n",
       "      <td>-0.103</td>\n",
       "      <td>NaN</td>\n",
       "    </tr>\n",
       "    <tr>\n",
       "      <th>1</th>\n",
       "      <td>1993</td>\n",
       "      <td>1</td>\n",
       "      <td>0.122</td>\n",
       "      <td>-0.056</td>\n",
       "      <td>-0.012</td>\n",
       "      <td>-0.101</td>\n",
       "      <td>NaN</td>\n",
       "    </tr>\n",
       "    <tr>\n",
       "      <th>2</th>\n",
       "      <td>1993</td>\n",
       "      <td>2</td>\n",
       "      <td>0.091</td>\n",
       "      <td>-0.056</td>\n",
       "      <td>-0.011</td>\n",
       "      <td>-0.101</td>\n",
       "      <td>NaN</td>\n",
       "    </tr>\n",
       "    <tr>\n",
       "      <th>3</th>\n",
       "      <td>1993</td>\n",
       "      <td>3</td>\n",
       "      <td>0.122</td>\n",
       "      <td>-0.056</td>\n",
       "      <td>-0.011</td>\n",
       "      <td>-0.100</td>\n",
       "      <td>NaN</td>\n",
       "    </tr>\n",
       "    <tr>\n",
       "      <th>4</th>\n",
       "      <td>1993</td>\n",
       "      <td>4</td>\n",
       "      <td>0.068</td>\n",
       "      <td>-0.055</td>\n",
       "      <td>-0.011</td>\n",
       "      <td>-0.100</td>\n",
       "      <td>NaN</td>\n",
       "    </tr>\n",
       "  </tbody>\n",
       "</table>\n",
       "</div>"
      ],
      "text/plain": [
       "   index  Year   Month   Monthly_MSL   Linear_Trend   High_Conf.   Low_Conf.\n",
       "0   1992    10  -0.017        -0.057         -0.012       -0.103         NaN\n",
       "1   1993     1   0.122        -0.056         -0.012       -0.101         NaN\n",
       "2   1993     2   0.091        -0.056         -0.011       -0.101         NaN\n",
       "3   1993     3   0.122        -0.056         -0.011       -0.100         NaN\n",
       "4   1993     4   0.068        -0.055         -0.011       -0.100         NaN"
      ]
     },
     "execution_count": 3,
     "metadata": {},
     "output_type": "execute_result"
    }
   ],
   "source": [
    "# Add dataframe index\n",
    "df = df.reset_index()\n",
    "df.head()"
   ]
  },
  {
   "cell_type": "code",
   "execution_count": 4,
   "id": "66233a01-0fd2-49cd-8458-bfb5c29f9162",
   "metadata": {},
   "outputs": [
    {
     "name": "stdout",
     "output_type": "stream",
     "text": [
      "<class 'pandas.core.frame.DataFrame'>\n",
      "RangeIndex: 314 entries, 0 to 313\n",
      "Data columns (total 7 columns):\n",
      " #   Column         Non-Null Count  Dtype  \n",
      "---  ------         --------------  -----  \n",
      " 0   index          314 non-null    int64  \n",
      " 1   Year           314 non-null    int64  \n",
      " 2    Month         314 non-null    float64\n",
      " 3    Monthly_MSL   314 non-null    float64\n",
      " 4    Linear_Trend  314 non-null    float64\n",
      " 5    High_Conf.    314 non-null    float64\n",
      " 6    Low_Conf.     0 non-null      float64\n",
      "dtypes: float64(5), int64(2)\n",
      "memory usage: 17.3 KB\n"
     ]
    }
   ],
   "source": [
    "# Display dataframe information\n",
    "df.info()"
   ]
  },
  {
   "cell_type": "code",
   "execution_count": 5,
   "id": "04ee14f0-55a4-4897-875b-1e0c460a847b",
   "metadata": {},
   "outputs": [
    {
     "data": {
      "text/plain": [
       "Index(['index', 'Year', ' Month', ' Monthly_MSL', ' Linear_Trend',\n",
       "       ' High_Conf.', ' Low_Conf.'],\n",
       "      dtype='object')"
      ]
     },
     "execution_count": 5,
     "metadata": {},
     "output_type": "execute_result"
    }
   ],
   "source": [
    "# Display dataframe columns\n",
    "df.columns"
   ]
  },
  {
   "cell_type": "code",
   "execution_count": 6,
   "id": "063e12d4-18c6-4bf5-abeb-f70a76eeaeaf",
   "metadata": {},
   "outputs": [
    {
     "data": {
      "text/html": [
       "<div>\n",
       "<style scoped>\n",
       "    .dataframe tbody tr th:only-of-type {\n",
       "        vertical-align: middle;\n",
       "    }\n",
       "\n",
       "    .dataframe tbody tr th {\n",
       "        vertical-align: top;\n",
       "    }\n",
       "\n",
       "    .dataframe thead th {\n",
       "        text-align: right;\n",
       "    }\n",
       "</style>\n",
       "<table border=\"1\" class=\"dataframe\">\n",
       "  <thead>\n",
       "    <tr style=\"text-align: right;\">\n",
       "      <th></th>\n",
       "      <th>Year</th>\n",
       "      <th>Month</th>\n",
       "      <th>Monthly_MSL</th>\n",
       "      <th>Linear_Trend</th>\n",
       "      <th>High_Conf</th>\n",
       "      <th>Low_Conf</th>\n",
       "      <th>DELETE</th>\n",
       "    </tr>\n",
       "  </thead>\n",
       "  <tbody>\n",
       "    <tr>\n",
       "      <th>0</th>\n",
       "      <td>1992</td>\n",
       "      <td>10</td>\n",
       "      <td>-0.017</td>\n",
       "      <td>-0.057</td>\n",
       "      <td>-0.012</td>\n",
       "      <td>-0.103</td>\n",
       "      <td>NaN</td>\n",
       "    </tr>\n",
       "    <tr>\n",
       "      <th>1</th>\n",
       "      <td>1993</td>\n",
       "      <td>1</td>\n",
       "      <td>0.122</td>\n",
       "      <td>-0.056</td>\n",
       "      <td>-0.012</td>\n",
       "      <td>-0.101</td>\n",
       "      <td>NaN</td>\n",
       "    </tr>\n",
       "    <tr>\n",
       "      <th>2</th>\n",
       "      <td>1993</td>\n",
       "      <td>2</td>\n",
       "      <td>0.091</td>\n",
       "      <td>-0.056</td>\n",
       "      <td>-0.011</td>\n",
       "      <td>-0.101</td>\n",
       "      <td>NaN</td>\n",
       "    </tr>\n",
       "    <tr>\n",
       "      <th>3</th>\n",
       "      <td>1993</td>\n",
       "      <td>3</td>\n",
       "      <td>0.122</td>\n",
       "      <td>-0.056</td>\n",
       "      <td>-0.011</td>\n",
       "      <td>-0.100</td>\n",
       "      <td>NaN</td>\n",
       "    </tr>\n",
       "    <tr>\n",
       "      <th>4</th>\n",
       "      <td>1993</td>\n",
       "      <td>4</td>\n",
       "      <td>0.068</td>\n",
       "      <td>-0.055</td>\n",
       "      <td>-0.011</td>\n",
       "      <td>-0.100</td>\n",
       "      <td>NaN</td>\n",
       "    </tr>\n",
       "  </tbody>\n",
       "</table>\n",
       "</div>"
      ],
      "text/plain": [
       "   Year  Month  Monthly_MSL  Linear_Trend  High_Conf  Low_Conf  DELETE\n",
       "0  1992     10       -0.017        -0.057     -0.012    -0.103     NaN\n",
       "1  1993      1        0.122        -0.056     -0.012    -0.101     NaN\n",
       "2  1993      2        0.091        -0.056     -0.011    -0.101     NaN\n",
       "3  1993      3        0.122        -0.056     -0.011    -0.100     NaN\n",
       "4  1993      4        0.068        -0.055     -0.011    -0.100     NaN"
      ]
     },
     "execution_count": 6,
     "metadata": {},
     "output_type": "execute_result"
    }
   ],
   "source": [
    "# Rename column names to shift them to the correct header position\n",
    "df.rename(columns={'index':'Year',\n",
    "                       'Year':'Month',\n",
    "                       ' Month':'Monthly_MSL',\n",
    "                       ' Monthly_MSL':'Linear_Trend',\n",
    "                        ' Linear_Trend':'High_Conf',\n",
    "                        ' High_Conf.':'Low_Conf',\n",
    "                        ' Low_Conf.':'DELETE'},\n",
    "               inplace=True)\n",
    "df.head()"
   ]
  },
  {
   "cell_type": "code",
   "execution_count": 7,
   "id": "54956221-f8fc-4f0d-8c25-eb5b4d6cc9ef",
   "metadata": {},
   "outputs": [
    {
     "data": {
      "text/html": [
       "<div>\n",
       "<style scoped>\n",
       "    .dataframe tbody tr th:only-of-type {\n",
       "        vertical-align: middle;\n",
       "    }\n",
       "\n",
       "    .dataframe tbody tr th {\n",
       "        vertical-align: top;\n",
       "    }\n",
       "\n",
       "    .dataframe thead th {\n",
       "        text-align: right;\n",
       "    }\n",
       "</style>\n",
       "<table border=\"1\" class=\"dataframe\">\n",
       "  <thead>\n",
       "    <tr style=\"text-align: right;\">\n",
       "      <th></th>\n",
       "      <th>Year</th>\n",
       "      <th>Month</th>\n",
       "      <th>Monthly_MSL</th>\n",
       "      <th>Linear_Trend</th>\n",
       "      <th>High_Conf</th>\n",
       "      <th>Low_Conf</th>\n",
       "    </tr>\n",
       "  </thead>\n",
       "  <tbody>\n",
       "    <tr>\n",
       "      <th>0</th>\n",
       "      <td>1992</td>\n",
       "      <td>10</td>\n",
       "      <td>-0.017</td>\n",
       "      <td>-0.057</td>\n",
       "      <td>-0.012</td>\n",
       "      <td>-0.103</td>\n",
       "    </tr>\n",
       "    <tr>\n",
       "      <th>1</th>\n",
       "      <td>1993</td>\n",
       "      <td>1</td>\n",
       "      <td>0.122</td>\n",
       "      <td>-0.056</td>\n",
       "      <td>-0.012</td>\n",
       "      <td>-0.101</td>\n",
       "    </tr>\n",
       "    <tr>\n",
       "      <th>2</th>\n",
       "      <td>1993</td>\n",
       "      <td>2</td>\n",
       "      <td>0.091</td>\n",
       "      <td>-0.056</td>\n",
       "      <td>-0.011</td>\n",
       "      <td>-0.101</td>\n",
       "    </tr>\n",
       "    <tr>\n",
       "      <th>3</th>\n",
       "      <td>1993</td>\n",
       "      <td>3</td>\n",
       "      <td>0.122</td>\n",
       "      <td>-0.056</td>\n",
       "      <td>-0.011</td>\n",
       "      <td>-0.100</td>\n",
       "    </tr>\n",
       "    <tr>\n",
       "      <th>4</th>\n",
       "      <td>1993</td>\n",
       "      <td>4</td>\n",
       "      <td>0.068</td>\n",
       "      <td>-0.055</td>\n",
       "      <td>-0.011</td>\n",
       "      <td>-0.100</td>\n",
       "    </tr>\n",
       "  </tbody>\n",
       "</table>\n",
       "</div>"
      ],
      "text/plain": [
       "   Year  Month  Monthly_MSL  Linear_Trend  High_Conf  Low_Conf\n",
       "0  1992     10       -0.017        -0.057     -0.012    -0.103\n",
       "1  1993      1        0.122        -0.056     -0.012    -0.101\n",
       "2  1993      2        0.091        -0.056     -0.011    -0.101\n",
       "3  1993      3        0.122        -0.056     -0.011    -0.100\n",
       "4  1993      4        0.068        -0.055     -0.011    -0.100"
      ]
     },
     "execution_count": 7,
     "metadata": {},
     "output_type": "execute_result"
    }
   ],
   "source": [
    "# Drop columns that aren't needed for analysis\n",
    "df = df.drop(['DELETE'], axis = 1)\n",
    "df.head()"
   ]
  },
  {
   "cell_type": "code",
   "execution_count": 8,
   "id": "1ad4b7bf-7357-4bba-aa8e-566f1971e971",
   "metadata": {},
   "outputs": [
    {
     "name": "stdout",
     "output_type": "stream",
     "text": [
      "<class 'pandas.core.frame.DataFrame'>\n",
      "RangeIndex: 314 entries, 0 to 313\n",
      "Data columns (total 6 columns):\n",
      " #   Column        Non-Null Count  Dtype  \n",
      "---  ------        --------------  -----  \n",
      " 0   Year          314 non-null    int64  \n",
      " 1   Month         314 non-null    int64  \n",
      " 2   Monthly_MSL   314 non-null    float64\n",
      " 3   Linear_Trend  314 non-null    float64\n",
      " 4   High_Conf     314 non-null    float64\n",
      " 5   Low_Conf      314 non-null    float64\n",
      "dtypes: float64(4), int64(2)\n",
      "memory usage: 14.8 KB\n"
     ]
    }
   ],
   "source": [
    "# Display dataframe information\n",
    "df.info()"
   ]
  },
  {
   "cell_type": "code",
   "execution_count": 9,
   "id": "123f81ca-382a-40d6-9056-5b63f56acbe8",
   "metadata": {},
   "outputs": [
    {
     "data": {
      "text/html": [
       "<div>\n",
       "<style scoped>\n",
       "    .dataframe tbody tr th:only-of-type {\n",
       "        vertical-align: middle;\n",
       "    }\n",
       "\n",
       "    .dataframe tbody tr th {\n",
       "        vertical-align: top;\n",
       "    }\n",
       "\n",
       "    .dataframe thead th {\n",
       "        text-align: right;\n",
       "    }\n",
       "</style>\n",
       "<table border=\"1\" class=\"dataframe\">\n",
       "  <thead>\n",
       "    <tr style=\"text-align: right;\">\n",
       "      <th></th>\n",
       "      <th>Month</th>\n",
       "      <th>Monthly_MSL</th>\n",
       "      <th>Linear_Trend</th>\n",
       "      <th>High_Conf</th>\n",
       "      <th>Low_Conf</th>\n",
       "    </tr>\n",
       "    <tr>\n",
       "      <th>Year</th>\n",
       "      <th></th>\n",
       "      <th></th>\n",
       "      <th></th>\n",
       "      <th></th>\n",
       "      <th></th>\n",
       "    </tr>\n",
       "  </thead>\n",
       "  <tbody>\n",
       "    <tr>\n",
       "      <th>2022</th>\n",
       "      <td>6</td>\n",
       "      <td>0.025</td>\n",
       "      <td>0.058</td>\n",
       "      <td>0.098</td>\n",
       "      <td>0.019</td>\n",
       "    </tr>\n",
       "    <tr>\n",
       "      <th>2022</th>\n",
       "      <td>7</td>\n",
       "      <td>0.061</td>\n",
       "      <td>0.059</td>\n",
       "      <td>0.098</td>\n",
       "      <td>0.019</td>\n",
       "    </tr>\n",
       "    <tr>\n",
       "      <th>2022</th>\n",
       "      <td>8</td>\n",
       "      <td>-0.010</td>\n",
       "      <td>0.059</td>\n",
       "      <td>0.099</td>\n",
       "      <td>0.019</td>\n",
       "    </tr>\n",
       "    <tr>\n",
       "      <th>2022</th>\n",
       "      <td>9</td>\n",
       "      <td>0.213</td>\n",
       "      <td>0.059</td>\n",
       "      <td>0.099</td>\n",
       "      <td>0.019</td>\n",
       "    </tr>\n",
       "    <tr>\n",
       "      <th>2022</th>\n",
       "      <td>10</td>\n",
       "      <td>0.029</td>\n",
       "      <td>0.060</td>\n",
       "      <td>0.100</td>\n",
       "      <td>0.019</td>\n",
       "    </tr>\n",
       "  </tbody>\n",
       "</table>\n",
       "</div>"
      ],
      "text/plain": [
       "      Month  Monthly_MSL  Linear_Trend  High_Conf  Low_Conf\n",
       "Year                                                       \n",
       "2022      6        0.025         0.058      0.098     0.019\n",
       "2022      7        0.061         0.059      0.098     0.019\n",
       "2022      8       -0.010         0.059      0.099     0.019\n",
       "2022      9        0.213         0.059      0.099     0.019\n",
       "2022     10        0.029         0.060      0.100     0.019"
      ]
     },
     "execution_count": 9,
     "metadata": {},
     "output_type": "execute_result"
    }
   ],
   "source": [
    "# Make Year the index\n",
    "df_yr = df.set_index(['Year'])\n",
    "df_yr.tail()"
   ]
  },
  {
   "cell_type": "markdown",
   "id": "b51e4ceb-718a-4468-9e68-2594291618c2",
   "metadata": {},
   "source": [
    "## 4) Plot monthly mean sea level by year for Nome, Alaska"
   ]
  },
  {
   "cell_type": "code",
   "execution_count": 10,
   "id": "20ecb822-0caa-4a50-83de-092149674300",
   "metadata": {},
   "outputs": [
    {
     "data": {
      "image/png": "[encoded data removed]",
      "text/plain": [
       "<Figure size 1200x600 with 1 Axes>"
      ]
     },
     "metadata": {},
     "output_type": "display_data"
    }
   ],
   "source": [
    "# Plot monthly mean sea level by year\n",
    "fig, ax = plt.subplots()\n",
    "\n",
    "df_yr.Monthly_MSL.plot(color='blue', style='o', ax=ax, label='Monthly Mean Sea Level');\n",
    "df_yr.Linear_Trend.plot(color='red', ax=ax, label='Linear Relative Sea Level Trend');\n",
    "df_yr.High_Conf.plot(color='black', style='--', ax=ax, label='95% Confidence Interval');\n",
    "df_yr.Low_Conf.plot(color='black', style='--', ax=ax, label='');\n",
    "plt.text(2018.7,-0.55,'Source: NOAA')\n",
    "\n",
    "ax.set_ylabel('Sea Surface Elevation (meters)')\n",
    "ax.set_title('Relative Sea Level Trend: Nome, Alaska')\n",
    "ax.margins(x=0)\n",
    "ax.legend(loc=2);"
   ]
  },
  {
   "cell_type": "markdown",
   "id": "e6ea1fcb-5357-4735-a5f8-c59762061083",
   "metadata": {},
   "source": [
    "The relative sea level trend is 3.89 millimeters/year with a 95% confidence\n",
    "interval of +/- 2.5 mm/yr based on monthly mean sea level data from\n",
    "1992 to 2021 which is equivalent to a change of 1.28 feet in 100 years. Source: NOAA"
   ]
  },
  {
   "cell_type": "markdown",
   "id": "8d3d51d0-21e3-4497-8c25-6edb3008807c",
   "metadata": {},
   "source": [
    "## 5) Save figure of monthly mean sea level by year for Nome, Alaska"
   ]
  },
  {
   "cell_type": "code",
   "execution_count": 11,
   "id": "4db53fd9-d0f9-4755-9fd0-bd64d55309e3",
   "metadata": {},
   "outputs": [],
   "source": [
    "# Save figure\n",
    "fig.savefig(\"RSL_Nome-AK.png\", bbox_inches='tight', dpi=600)"
   ]
  },
  {
   "cell_type": "markdown",
   "id": "6937e8a2-f92f-4451-a84e-6807db4846ad",
   "metadata": {},
   "source": [
    "## 6) Make a subset DataFrame for 2022"
   ]
  },
  {
   "cell_type": "code",
   "execution_count": 12,
   "id": "3f422db9-e8ec-4163-b771-b7f133c2ff61",
   "metadata": {},
   "outputs": [
    {
     "data": {
      "text/html": [
       "<div>\n",
       "<style scoped>\n",
       "    .dataframe tbody tr th:only-of-type {\n",
       "        vertical-align: middle;\n",
       "    }\n",
       "\n",
       "    .dataframe tbody tr th {\n",
       "        vertical-align: top;\n",
       "    }\n",
       "\n",
       "    .dataframe thead th {\n",
       "        text-align: right;\n",
       "    }\n",
       "</style>\n",
       "<table border=\"1\" class=\"dataframe\">\n",
       "  <thead>\n",
       "    <tr style=\"text-align: right;\">\n",
       "      <th></th>\n",
       "      <th>Year</th>\n",
       "      <th>Month</th>\n",
       "      <th>Monthly_MSL</th>\n",
       "      <th>Linear_Trend</th>\n",
       "      <th>High_Conf</th>\n",
       "      <th>Low_Conf</th>\n",
       "    </tr>\n",
       "  </thead>\n",
       "  <tbody>\n",
       "    <tr>\n",
       "      <th>304</th>\n",
       "      <td>2022</td>\n",
       "      <td>1</td>\n",
       "      <td>-0.214</td>\n",
       "      <td>0.057</td>\n",
       "      <td>0.095</td>\n",
       "      <td>0.018</td>\n",
       "    </tr>\n",
       "    <tr>\n",
       "      <th>305</th>\n",
       "      <td>2022</td>\n",
       "      <td>2</td>\n",
       "      <td>-0.161</td>\n",
       "      <td>0.057</td>\n",
       "      <td>0.096</td>\n",
       "      <td>0.018</td>\n",
       "    </tr>\n",
       "    <tr>\n",
       "      <th>306</th>\n",
       "      <td>2022</td>\n",
       "      <td>3</td>\n",
       "      <td>-0.189</td>\n",
       "      <td>0.057</td>\n",
       "      <td>0.096</td>\n",
       "      <td>0.018</td>\n",
       "    </tr>\n",
       "    <tr>\n",
       "      <th>307</th>\n",
       "      <td>2022</td>\n",
       "      <td>4</td>\n",
       "      <td>0.166</td>\n",
       "      <td>0.058</td>\n",
       "      <td>0.097</td>\n",
       "      <td>0.018</td>\n",
       "    </tr>\n",
       "    <tr>\n",
       "      <th>308</th>\n",
       "      <td>2022</td>\n",
       "      <td>5</td>\n",
       "      <td>0.008</td>\n",
       "      <td>0.058</td>\n",
       "      <td>0.097</td>\n",
       "      <td>0.018</td>\n",
       "    </tr>\n",
       "    <tr>\n",
       "      <th>309</th>\n",
       "      <td>2022</td>\n",
       "      <td>6</td>\n",
       "      <td>0.025</td>\n",
       "      <td>0.058</td>\n",
       "      <td>0.098</td>\n",
       "      <td>0.019</td>\n",
       "    </tr>\n",
       "    <tr>\n",
       "      <th>310</th>\n",
       "      <td>2022</td>\n",
       "      <td>7</td>\n",
       "      <td>0.061</td>\n",
       "      <td>0.059</td>\n",
       "      <td>0.098</td>\n",
       "      <td>0.019</td>\n",
       "    </tr>\n",
       "    <tr>\n",
       "      <th>311</th>\n",
       "      <td>2022</td>\n",
       "      <td>8</td>\n",
       "      <td>-0.010</td>\n",
       "      <td>0.059</td>\n",
       "      <td>0.099</td>\n",
       "      <td>0.019</td>\n",
       "    </tr>\n",
       "    <tr>\n",
       "      <th>312</th>\n",
       "      <td>2022</td>\n",
       "      <td>9</td>\n",
       "      <td>0.213</td>\n",
       "      <td>0.059</td>\n",
       "      <td>0.099</td>\n",
       "      <td>0.019</td>\n",
       "    </tr>\n",
       "    <tr>\n",
       "      <th>313</th>\n",
       "      <td>2022</td>\n",
       "      <td>10</td>\n",
       "      <td>0.029</td>\n",
       "      <td>0.060</td>\n",
       "      <td>0.100</td>\n",
       "      <td>0.019</td>\n",
       "    </tr>\n",
       "  </tbody>\n",
       "</table>\n",
       "</div>"
      ],
      "text/plain": [
       "     Year  Month  Monthly_MSL  Linear_Trend  High_Conf  Low_Conf\n",
       "304  2022      1       -0.214         0.057      0.095     0.018\n",
       "305  2022      2       -0.161         0.057      0.096     0.018\n",
       "306  2022      3       -0.189         0.057      0.096     0.018\n",
       "307  2022      4        0.166         0.058      0.097     0.018\n",
       "308  2022      5        0.008         0.058      0.097     0.018\n",
       "309  2022      6        0.025         0.058      0.098     0.019\n",
       "310  2022      7        0.061         0.059      0.098     0.019\n",
       "311  2022      8       -0.010         0.059      0.099     0.019\n",
       "312  2022      9        0.213         0.059      0.099     0.019\n",
       "313  2022     10        0.029         0.060      0.100     0.019"
      ]
     },
     "execution_count": 12,
     "metadata": {},
     "output_type": "execute_result"
    }
   ],
   "source": [
    "# Make a subset dataframe for 2022\n",
    "df_2022 = df[df_yr.index == 2022]\n",
    "df_2022"
   ]
  },
  {
   "cell_type": "code",
   "execution_count": 13,
   "id": "2bb7d205-2248-4230-8547-9c9a016d3882",
   "metadata": {},
   "outputs": [
    {
     "data": {
      "text/html": [
       "<div>\n",
       "<style scoped>\n",
       "    .dataframe tbody tr th:only-of-type {\n",
       "        vertical-align: middle;\n",
       "    }\n",
       "\n",
       "    .dataframe tbody tr th {\n",
       "        vertical-align: top;\n",
       "    }\n",
       "\n",
       "    .dataframe thead th {\n",
       "        text-align: right;\n",
       "    }\n",
       "</style>\n",
       "<table border=\"1\" class=\"dataframe\">\n",
       "  <thead>\n",
       "    <tr style=\"text-align: right;\">\n",
       "      <th></th>\n",
       "      <th>Year</th>\n",
       "      <th>Month</th>\n",
       "      <th>Monthly_MSL</th>\n",
       "      <th>Linear_Trend</th>\n",
       "      <th>High_Conf</th>\n",
       "      <th>Low_Conf</th>\n",
       "    </tr>\n",
       "  </thead>\n",
       "  <tbody>\n",
       "    <tr>\n",
       "      <th>count</th>\n",
       "      <td>10.0</td>\n",
       "      <td>10.00000</td>\n",
       "      <td>10.000000</td>\n",
       "      <td>10.000000</td>\n",
       "      <td>10.000000</td>\n",
       "      <td>10.000000</td>\n",
       "    </tr>\n",
       "    <tr>\n",
       "      <th>mean</th>\n",
       "      <td>2022.0</td>\n",
       "      <td>5.50000</td>\n",
       "      <td>-0.007200</td>\n",
       "      <td>0.058200</td>\n",
       "      <td>0.097500</td>\n",
       "      <td>0.018500</td>\n",
       "    </tr>\n",
       "    <tr>\n",
       "      <th>std</th>\n",
       "      <td>0.0</td>\n",
       "      <td>3.02765</td>\n",
       "      <td>0.143448</td>\n",
       "      <td>0.001033</td>\n",
       "      <td>0.001581</td>\n",
       "      <td>0.000527</td>\n",
       "    </tr>\n",
       "    <tr>\n",
       "      <th>min</th>\n",
       "      <td>2022.0</td>\n",
       "      <td>1.00000</td>\n",
       "      <td>-0.214000</td>\n",
       "      <td>0.057000</td>\n",
       "      <td>0.095000</td>\n",
       "      <td>0.018000</td>\n",
       "    </tr>\n",
       "    <tr>\n",
       "      <th>25%</th>\n",
       "      <td>2022.0</td>\n",
       "      <td>3.25000</td>\n",
       "      <td>-0.123250</td>\n",
       "      <td>0.057250</td>\n",
       "      <td>0.096250</td>\n",
       "      <td>0.018000</td>\n",
       "    </tr>\n",
       "    <tr>\n",
       "      <th>50%</th>\n",
       "      <td>2022.0</td>\n",
       "      <td>5.50000</td>\n",
       "      <td>0.016500</td>\n",
       "      <td>0.058000</td>\n",
       "      <td>0.097500</td>\n",
       "      <td>0.018500</td>\n",
       "    </tr>\n",
       "    <tr>\n",
       "      <th>75%</th>\n",
       "      <td>2022.0</td>\n",
       "      <td>7.75000</td>\n",
       "      <td>0.053000</td>\n",
       "      <td>0.059000</td>\n",
       "      <td>0.098750</td>\n",
       "      <td>0.019000</td>\n",
       "    </tr>\n",
       "    <tr>\n",
       "      <th>max</th>\n",
       "      <td>2022.0</td>\n",
       "      <td>10.00000</td>\n",
       "      <td>0.213000</td>\n",
       "      <td>0.060000</td>\n",
       "      <td>0.100000</td>\n",
       "      <td>0.019000</td>\n",
       "    </tr>\n",
       "  </tbody>\n",
       "</table>\n",
       "</div>"
      ],
      "text/plain": [
       "         Year     Month  Monthly_MSL  Linear_Trend  High_Conf   Low_Conf\n",
       "count    10.0  10.00000    10.000000     10.000000  10.000000  10.000000\n",
       "mean   2022.0   5.50000    -0.007200      0.058200   0.097500   0.018500\n",
       "std       0.0   3.02765     0.143448      0.001033   0.001581   0.000527\n",
       "min    2022.0   1.00000    -0.214000      0.057000   0.095000   0.018000\n",
       "25%    2022.0   3.25000    -0.123250      0.057250   0.096250   0.018000\n",
       "50%    2022.0   5.50000     0.016500      0.058000   0.097500   0.018500\n",
       "75%    2022.0   7.75000     0.053000      0.059000   0.098750   0.019000\n",
       "max    2022.0  10.00000     0.213000      0.060000   0.100000   0.019000"
      ]
     },
     "execution_count": 13,
     "metadata": {},
     "output_type": "execute_result"
    }
   ],
   "source": [
    "# Get statistics for 2022 dataframe\n",
    "df_2022.describe()"
   ]
  },
  {
   "cell_type": "markdown",
   "id": "b595d562-bd68-4439-96af-4afe33b90aeb",
   "metadata": {},
   "source": [
    "## 7) Compute montly mean sea level in 2022 in meters and millimeters from subset 2022 DataFrame"
   ]
  },
  {
   "cell_type": "code",
   "execution_count": 14,
   "id": "363afde2-4ec9-4f19-8126-840ff6c15532",
   "metadata": {},
   "outputs": [
    {
     "data": {
      "text/plain": [
       "-0.007200000000000007"
      ]
     },
     "execution_count": 14,
     "metadata": {},
     "output_type": "execute_result"
    }
   ],
   "source": [
    "# Montly mean sea level in 2022 in meters\n",
    "msl2022_m = df_2022.Monthly_MSL.mean()\n",
    "msl2022_m"
   ]
  },
  {
   "cell_type": "code",
   "execution_count": 15,
   "id": "486f2020-16aa-455d-88d2-e1d6652093be",
   "metadata": {},
   "outputs": [
    {
     "data": {
      "text/plain": [
       "-7.200000000000006"
      ]
     },
     "execution_count": 15,
     "metadata": {},
     "output_type": "execute_result"
    }
   ],
   "source": [
    "# Montly mean sea level in 2022 in millimeters\n",
    "msl2022_mm = msl2022_m * 1000\n",
    "msl2022_mm "
   ]
  },
  {
   "cell_type": "markdown",
   "id": "6fb052a7-9bed-4a0a-8c8a-940bf493594c",
   "metadata": {},
   "source": [
    "## 8) Calculate sea level change rates for each temperature scenario in millimeters and meters"
   ]
  },
  {
   "cell_type": "code",
   "execution_count": 16,
   "id": "603774b0-b055-4512-91e1-06c3d08340b6",
   "metadata": {},
   "outputs": [
    {
     "name": "stdout",
     "output_type": "stream",
     "text": [
      "20.870588235294118\n",
      "21.56470588235294\n",
      "19.58705882352941\n"
     ]
    }
   ],
   "source": [
    "# Calculate sea level change rates for 85 year difference (2015-2100) in millimeters\n",
    "\n",
    "# 9.71 K (1)\n",
    "SLC_NY_1_mm = 0.7767/85*1000\n",
    "SLC_Nome_1_mm = 1.7740/85*1000\n",
    "SLC_Yakutat_1_mm = 1.5582/85*1000\n",
    "print(SLC_Nome_1_mm)\n",
    "\n",
    "# 13.91 K (2)\n",
    "SLC_NY_2_mm = 0.8325/85*1000\n",
    "SLC_Nome_2_mm = 1.8330/85*1000\n",
    "SLC_Yakutat_1_mm = 1.6141/85*1000\n",
    "print(SLC_Nome_2_mm)\n",
    "\n",
    "# 6.33 K (3)\n",
    "SLC_NY_3_mm = 0.7279/85*1000\n",
    "SLC_Nome_3_mm = 1.6649/85*1000\n",
    "SLC_Yakutat_1_mm = 1.4638/85*1000\n",
    "print(SLC_Nome_3_mm)"
   ]
  },
  {
   "cell_type": "markdown",
   "id": "708c3cd9-daf1-44e9-a90f-1d2753304b50",
   "metadata": {},
   "source": [
    "## Calculated Sea Level Change Rates from Greenland Ice Sheet (GrIS) melt, 2022-2100, in different CMIP6 Temperature Projections\n",
    "For the mean, 95th percentile, and 5th percentile projected temperature changes, a time window from the Holocene is determined that has a similar temperature increase to each CMIP6 projection. The magnitude of the sea level change was calculated for each of these time windows in our locations of interest, and a rate of sea level rise was computed for each temperature scenario by dividing the magnitude for each temperature scenario by 85 years (the time period used in the CMIP6 projections).\n",
    "\n",
    "| CMIP6 SSP5-8.5 | Corresponding Holocene time interval | New York, NY | Nome, AK |\n",
    "| --- | --- | --- | --- |\n",
    "| Mean of projected warming, 9.71 K | 11.5 - 8 ka | 9.14 mm/yr | 20.87 mm/yr |\n",
    "| 95th percentile of projected warming, 13.91 K | 12 - 7.5 ka | 9.79 mm/yr | 21.56 mm/yr |\n",
    "| 5th percentile of projected warming, 6.33 K | 11 - 8 ka | 8.56 mm/yr |  19.59 mm/yr |\n",
    "\n",
    "\n",
    "## Sea level change rate between 11.5 and 8 ka (9.71 K):\n",
    "- NY: 9.14 mm/yr\n",
    "- Nome: 20.87 mm/yr\n",
    "- Yakutat: 18.33 mm/yr\n",
    "\n",
    "## Sea level change rate between 12 and 7.5 ka (13.91 K):\n",
    "- NY: 9.79 mm/yr\n",
    "- Nome: 21.56 mm/yr\n",
    "- Yakutat: 18.99 mm/yr\n",
    "\n",
    "## Sea level change rate between 11 and 8 ka (6.33 K):\n",
    "- NY: 8.56 mm/yr\n",
    "- Nome: 19.59 mm/yr\n",
    "- Yakutat: 17.22 mm/yr"
   ]
  },
  {
   "cell_type": "code",
   "execution_count": 17,
   "id": "c14c0c16-fea2-4442-b101-d44e450824a2",
   "metadata": {},
   "outputs": [
    {
     "name": "stdout",
     "output_type": "stream",
     "text": [
      "0.020870588235294116\n",
      "0.02156470588235294\n",
      "0.019587058823529412\n"
     ]
    }
   ],
   "source": [
    "# Calculate sea level change rates for 85 year difference (2015-2100) in meters\n",
    "\n",
    "# 9.71 K (1)\n",
    "#SLC_Nome_1_mm = 23.65 #mm/yr #wrong 75 yrs instead of 85 yrs\n",
    "SLC_Nome_1_m = SLC_Nome_1_mm/1000\n",
    "print(SLC_Nome_1_m)\n",
    "\n",
    "# 13.91 K (2)\n",
    "#SLC_Nome_2_mm = 24.44 #mm/yr #wrong 75 yrs instead of 85 yrs\n",
    "SLC_Nome_2_m = SLC_Nome_2_mm/1000\n",
    "print(SLC_Nome_2_m)\n",
    "\n",
    "# 6.33 K (3)\n",
    "#SLC_Nome_3_mm = 22.199 #mm/yr #wrong 75 yrs instead of 85 yrs\n",
    "SLC_Nome_3_m = SLC_Nome_3_mm/1000\n",
    "print(SLC_Nome_3_m)"
   ]
  },
  {
   "cell_type": "markdown",
   "id": "df4e76de-7865-4409-8b2a-0aed86341ed2",
   "metadata": {},
   "source": [
    "## 9) Calculate sea level change from 2022 to 2100 in meters and feet for each temperature scenario"
   ]
  },
  {
   "cell_type": "code",
   "execution_count": 18,
   "id": "16fabebe-20a0-46ae-abfc-010f04a6f57c",
   "metadata": {},
   "outputs": [
    {
     "data": {
      "text/plain": [
       "78.0"
      ]
     },
     "execution_count": 18,
     "metadata": {},
     "output_type": "execute_result"
    }
   ],
   "source": [
    "# Calculate number of years to 2100\n",
    "yr_min = df.iloc[df.index.min()].Year\n",
    "yr_max = df.iloc[df.index.max()].Year\n",
    "\n",
    "del_yr = 2100 - yr_max\n",
    "del_yr"
   ]
  },
  {
   "cell_type": "code",
   "execution_count": 19,
   "id": "7d1281cd-fe4a-4b62-b715-657487069f0d",
   "metadata": {},
   "outputs": [
    {
     "data": {
      "text/plain": [
       "2022.0"
      ]
     },
     "execution_count": 19,
     "metadata": {},
     "output_type": "execute_result"
    }
   ],
   "source": [
    "# Display max year\n",
    "yr_max = df.iloc[df.index.max()].Year\n",
    "yr_max"
   ]
  },
  {
   "cell_type": "code",
   "execution_count": 20,
   "id": "bf479119-74a3-4872-8324-1f4b30b81470",
   "metadata": {},
   "outputs": [
    {
     "data": {
      "text/plain": [
       "1.6279058823529413"
      ]
     },
     "execution_count": 20,
     "metadata": {},
     "output_type": "execute_result"
    }
   ],
   "source": [
    "# Sea level change 2022 to 2100 (1) in m\n",
    "SLC_1_mm = del_yr * SLC_Nome_1_mm\n",
    "SLC_1_m = SLC_1_mm /1000\n",
    "SLC_1_m"
   ]
  },
  {
   "cell_type": "code",
   "execution_count": 21,
   "id": "bc382518-fcdb-4871-bd9c-378b619dc45b",
   "metadata": {},
   "outputs": [
    {
     "data": {
      "text/plain": [
       "5.341159200000001"
      ]
     },
     "execution_count": 21,
     "metadata": {},
     "output_type": "execute_result"
    }
   ],
   "source": [
    "# Sea level change 2022 to 2100 (1) in ft\n",
    "SLC_1_ft = SLC_1_m * 3.281\n",
    "SLC_1_ft"
   ]
  },
  {
   "cell_type": "code",
   "execution_count": 22,
   "id": "9df158ef-0cb6-49ad-af2c-ea5a139afdd1",
   "metadata": {},
   "outputs": [
    {
     "data": {
      "text/plain": [
       "1.6820470588235295"
      ]
     },
     "execution_count": 22,
     "metadata": {},
     "output_type": "execute_result"
    }
   ],
   "source": [
    "# Sea level change 2022 to 2100 (2) in m\n",
    "SLC_2_mm = del_yr * SLC_Nome_2_mm\n",
    "SLC_2_m = SLC_2_mm /1000\n",
    "SLC_2_m"
   ]
  },
  {
   "cell_type": "code",
   "execution_count": 23,
   "id": "b0c31831-e8fb-42ee-87c2-e758c308bf1a",
   "metadata": {},
   "outputs": [
    {
     "data": {
      "text/plain": [
       "5.5187964"
      ]
     },
     "execution_count": 23,
     "metadata": {},
     "output_type": "execute_result"
    }
   ],
   "source": [
    "# Sea level change 2022 to 2100 (2) in ft\n",
    "SLC_2_ft = SLC_2_m * 3.281\n",
    "SLC_2_ft"
   ]
  },
  {
   "cell_type": "code",
   "execution_count": 24,
   "id": "114ceb26-7d41-46de-96ec-ba959f1317b8",
   "metadata": {},
   "outputs": [
    {
     "data": {
      "text/plain": [
       "1.527790588235294"
      ]
     },
     "execution_count": 24,
     "metadata": {},
     "output_type": "execute_result"
    }
   ],
   "source": [
    "# Sea level change 2022 to 2100 (3) in m\n",
    "SLC_3_mm = del_yr * SLC_Nome_3_mm\n",
    "SLC_3_m = SLC_3_mm /1000\n",
    "SLC_3_m"
   ]
  },
  {
   "cell_type": "code",
   "execution_count": 25,
   "id": "fc60322f-b791-47eb-bf96-334b05e6198f",
   "metadata": {},
   "outputs": [
    {
     "data": {
      "text/plain": [
       "5.01268092"
      ]
     },
     "execution_count": 25,
     "metadata": {},
     "output_type": "execute_result"
    }
   ],
   "source": [
    "# Sea level change 2022 to 2100 (3) in ft\n",
    "SLC_3_ft = SLC_3_m * 3.281\n",
    "SLC_3_ft"
   ]
  },
  {
   "cell_type": "markdown",
   "id": "305504e5-c9e8-4dd5-9a59-223caa36e3f5",
   "metadata": {},
   "source": [
    "## 10) Calculate projected sea level in 2100 in meters and feet for each temperature scenario based on our calculated sea level change rates"
   ]
  },
  {
   "cell_type": "code",
   "execution_count": 26,
   "id": "e003b8d3-74eb-494a-9fe1-3d7ff59940c2",
   "metadata": {},
   "outputs": [
    {
     "data": {
      "text/plain": [
       "1.6207058823529412"
      ]
     },
     "execution_count": 26,
     "metadata": {},
     "output_type": "execute_result"
    }
   ],
   "source": [
    "# Calculate 2100 sea level for scenario 1 in m\n",
    "SL_2100_1 = msl2022_m + SLC_1_m\n",
    "SL_2100_1"
   ]
  },
  {
   "cell_type": "code",
   "execution_count": 27,
   "id": "7139bff1-fe91-4997-82ba-d72b9baf28f0",
   "metadata": {},
   "outputs": [
    {
     "data": {
      "text/plain": [
       "5.3175360000000005"
      ]
     },
     "execution_count": 27,
     "metadata": {},
     "output_type": "execute_result"
    }
   ],
   "source": [
    "# Calculate 2100 sea level for scenario 1 in ft\n",
    "SL_2100_1_ft = SL_2100_1 * 3.281\n",
    "SL_2100_1_ft"
   ]
  },
  {
   "cell_type": "code",
   "execution_count": 28,
   "id": "cd2a0577-5b74-4897-a4cd-a3fa5b9f9705",
   "metadata": {},
   "outputs": [
    {
     "data": {
      "text/plain": [
       "1.6748470588235294"
      ]
     },
     "execution_count": 28,
     "metadata": {},
     "output_type": "execute_result"
    }
   ],
   "source": [
    "# Calculate 2100 sea level for scenario 2 in m\n",
    "SL_2100_2 = msl2022_m + SLC_2_m\n",
    "SL_2100_2"
   ]
  },
  {
   "cell_type": "code",
   "execution_count": 29,
   "id": "c787190a-5fcc-4f6c-acdf-3c3f8ac29eee",
   "metadata": {},
   "outputs": [
    {
     "data": {
      "text/plain": [
       "5.4951732"
      ]
     },
     "execution_count": 29,
     "metadata": {},
     "output_type": "execute_result"
    }
   ],
   "source": [
    "# Calculate 2100 sea level for scenario 2 in ft\n",
    "SL_2100_2_ft = SL_2100_2 * 3.281\n",
    "SL_2100_2_ft"
   ]
  },
  {
   "cell_type": "code",
   "execution_count": 30,
   "id": "31d93a49-11a6-45f7-b6ed-ffbb1737fb87",
   "metadata": {},
   "outputs": [
    {
     "data": {
      "text/plain": [
       "1.520590588235294"
      ]
     },
     "execution_count": 30,
     "metadata": {},
     "output_type": "execute_result"
    }
   ],
   "source": [
    "# Calculate 2100 sea level for scenario 3 in m\n",
    "SL_2100_3 = msl2022_m + SLC_3_m\n",
    "SL_2100_3"
   ]
  },
  {
   "cell_type": "code",
   "execution_count": 31,
   "id": "79475d7a-80d2-4955-ab88-0c56514d1e39",
   "metadata": {},
   "outputs": [
    {
     "data": {
      "text/plain": [
       "4.98905772"
      ]
     },
     "execution_count": 31,
     "metadata": {},
     "output_type": "execute_result"
    }
   ],
   "source": [
    "# Calculate 2100 sea level for scenario 3 in ft\n",
    "SL_2100_3_ft = SL_2100_3 * 3.281\n",
    "SL_2100_3_ft"
   ]
  },
  {
   "cell_type": "markdown",
   "id": "0d50f120-78fe-4555-8be1-da0eddf6644f",
   "metadata": {},
   "source": [
    "## 11) Make arrays of years from 2022 to 2100"
   ]
  },
  {
   "cell_type": "code",
   "execution_count": 32,
   "id": "71d0efb8-c63b-4625-bd2d-975f62b88e89",
   "metadata": {},
   "outputs": [
    {
     "data": {
      "text/plain": [
       "array([2022., 2023., 2024., 2025., 2026., 2027., 2028., 2029., 2030.,\n",
       "       2031., 2032., 2033., 2034., 2035., 2036., 2037., 2038., 2039.,\n",
       "       2040., 2041., 2042., 2043., 2044., 2045., 2046., 2047., 2048.,\n",
       "       2049., 2050., 2051., 2052., 2053., 2054., 2055., 2056., 2057.,\n",
       "       2058., 2059., 2060., 2061., 2062., 2063., 2064., 2065., 2066.,\n",
       "       2067., 2068., 2069., 2070., 2071., 2072., 2073., 2074., 2075.,\n",
       "       2076., 2077., 2078., 2079., 2080., 2081., 2082., 2083., 2084.,\n",
       "       2085., 2086., 2087., 2088., 2089., 2090., 2091., 2092., 2093.,\n",
       "       2094., 2095., 2096., 2097., 2098., 2099., 2100.])"
      ]
     },
     "execution_count": 32,
     "metadata": {},
     "output_type": "execute_result"
    }
   ],
   "source": [
    "# Make array of years from 2022 to 2100\n",
    "proj_yrs = np.linspace(2022, 2100, 79)\n",
    "proj_yrs"
   ]
  },
  {
   "cell_type": "markdown",
   "id": "98b609a2-9f3e-4818-b153-50630c77ebda",
   "metadata": {},
   "source": [
    "## 12) Make arrays of sea level change from 2022 to 2100 in meters for each temperature scenario"
   ]
  },
  {
   "cell_type": "code",
   "execution_count": 33,
   "id": "eb3137a4-cda8-4768-86e0-e3038e47475e",
   "metadata": {},
   "outputs": [
    {
     "data": {
      "text/plain": [
       "array([-0.0072    ,  0.01367059,  0.03454118,  0.05541176,  0.07628235,\n",
       "        0.09715294,  0.11802353,  0.13889412,  0.15976471,  0.18063529,\n",
       "        0.20150588,  0.22237647,  0.24324706,  0.26411765,  0.28498824,\n",
       "        0.30585882,  0.32672941,  0.3476    ,  0.36847059,  0.38934118,\n",
       "        0.41021176,  0.43108235,  0.45195294,  0.47282353,  0.49369412,\n",
       "        0.51456471,  0.53543529,  0.55630588,  0.57717647,  0.59804706,\n",
       "        0.61891765,  0.63978824,  0.66065882,  0.68152941,  0.7024    ,\n",
       "        0.72327059,  0.74414118,  0.76501176,  0.78588235,  0.80675294,\n",
       "        0.82762353,  0.84849412,  0.86936471,  0.89023529,  0.91110588,\n",
       "        0.93197647,  0.95284706,  0.97371765,  0.99458824,  1.01545882,\n",
       "        1.03632941,  1.0572    ,  1.07807059,  1.09894118,  1.11981176,\n",
       "        1.14068235,  1.16155294,  1.18242353,  1.20329412,  1.22416471,\n",
       "        1.24503529,  1.26590588,  1.28677647,  1.30764706,  1.32851765,\n",
       "        1.34938824,  1.37025882,  1.39112941,  1.412     ,  1.43287059,\n",
       "        1.45374118,  1.47461176,  1.49548235,  1.51635294,  1.53722353,\n",
       "        1.55809412,  1.57896471,  1.59983529,  1.62070588])"
      ]
     },
     "execution_count": 33,
     "metadata": {},
     "output_type": "execute_result"
    }
   ],
   "source": [
    "# Make array of SLC from 2022 to 2100 for scenario 1\n",
    "proj_1_slc = np.linspace(msl2022_m, SL_2100_1, 79)\n",
    "proj_1_slc"
   ]
  },
  {
   "cell_type": "code",
   "execution_count": 34,
   "id": "a4858b63-ffda-4a17-9e52-2d75009935c9",
   "metadata": {},
   "outputs": [
    {
     "data": {
      "text/plain": [
       "array([-0.0072    ,  0.01436471,  0.03592941,  0.05749412,  0.07905882,\n",
       "        0.10062353,  0.12218824,  0.14375294,  0.16531765,  0.18688235,\n",
       "        0.20844706,  0.23001176,  0.25157647,  0.27314118,  0.29470588,\n",
       "        0.31627059,  0.33783529,  0.3594    ,  0.38096471,  0.40252941,\n",
       "        0.42409412,  0.44565882,  0.46722353,  0.48878824,  0.51035294,\n",
       "        0.53191765,  0.55348235,  0.57504706,  0.59661176,  0.61817647,\n",
       "        0.63974118,  0.66130588,  0.68287059,  0.70443529,  0.726     ,\n",
       "        0.74756471,  0.76912941,  0.79069412,  0.81225882,  0.83382353,\n",
       "        0.85538824,  0.87695294,  0.89851765,  0.92008235,  0.94164706,\n",
       "        0.96321176,  0.98477647,  1.00634118,  1.02790588,  1.04947059,\n",
       "        1.07103529,  1.0926    ,  1.11416471,  1.13572941,  1.15729412,\n",
       "        1.17885882,  1.20042353,  1.22198824,  1.24355294,  1.26511765,\n",
       "        1.28668235,  1.30824706,  1.32981176,  1.35137647,  1.37294118,\n",
       "        1.39450588,  1.41607059,  1.43763529,  1.4592    ,  1.48076471,\n",
       "        1.50232941,  1.52389412,  1.54545882,  1.56702353,  1.58858824,\n",
       "        1.61015294,  1.63171765,  1.65328235,  1.67484706])"
      ]
     },
     "execution_count": 34,
     "metadata": {},
     "output_type": "execute_result"
    }
   ],
   "source": [
    "# Make array of SLC from 2022 to 2100 for scenario 2\n",
    "proj_2_slc = np.linspace(msl2022_m, SL_2100_2, 79)\n",
    "proj_2_slc"
   ]
  },
  {
   "cell_type": "code",
   "execution_count": 35,
   "id": "bf655a16-4a6b-4807-9013-5a6084ba1aef",
   "metadata": {},
   "outputs": [
    {
     "data": {
      "text/plain": [
       "array([-0.0072    ,  0.01238706,  0.03197412,  0.05156118,  0.07114824,\n",
       "        0.09073529,  0.11032235,  0.12990941,  0.14949647,  0.16908353,\n",
       "        0.18867059,  0.20825765,  0.22784471,  0.24743176,  0.26701882,\n",
       "        0.28660588,  0.30619294,  0.32578   ,  0.34536706,  0.36495412,\n",
       "        0.38454118,  0.40412824,  0.42371529,  0.44330235,  0.46288941,\n",
       "        0.48247647,  0.50206353,  0.52165059,  0.54123765,  0.56082471,\n",
       "        0.58041176,  0.59999882,  0.61958588,  0.63917294,  0.65876   ,\n",
       "        0.67834706,  0.69793412,  0.71752118,  0.73710824,  0.75669529,\n",
       "        0.77628235,  0.79586941,  0.81545647,  0.83504353,  0.85463059,\n",
       "        0.87421765,  0.89380471,  0.91339176,  0.93297882,  0.95256588,\n",
       "        0.97215294,  0.99174   ,  1.01132706,  1.03091412,  1.05050118,\n",
       "        1.07008824,  1.08967529,  1.10926235,  1.12884941,  1.14843647,\n",
       "        1.16802353,  1.18761059,  1.20719765,  1.22678471,  1.24637176,\n",
       "        1.26595882,  1.28554588,  1.30513294,  1.32472   ,  1.34430706,\n",
       "        1.36389412,  1.38348118,  1.40306824,  1.42265529,  1.44224235,\n",
       "        1.46182941,  1.48141647,  1.50100353,  1.52059059])"
      ]
     },
     "execution_count": 35,
     "metadata": {},
     "output_type": "execute_result"
    }
   ],
   "source": [
    "# Make array of SLC from 2022 to 2100 for scenario 3\n",
    "proj_3_slc = np.linspace(msl2022_m, SL_2100_3, 79)\n",
    "proj_3_slc"
   ]
  },
  {
   "cell_type": "markdown",
   "id": "b4c65951-7d73-465e-b564-c7d98692a2de",
   "metadata": {},
   "source": [
    "## 13) Plot monthly mean sea level by year with projected relative sea level change from GrIS for Nome, Alaska"
   ]
  },
  {
   "cell_type": "code",
   "execution_count": 36,
   "id": "4f2ef65b-51c3-42ae-8f04-569f5aff6ba2",
   "metadata": {},
   "outputs": [
    {
     "data": {
      "image/png": "[encoded data removed]",
      "text/plain": [
       "<Figure size 1200x600 with 1 Axes>"
      ]
     },
     "metadata": {},
     "output_type": "display_data"
    }
   ],
   "source": [
    "# Plot monthly mean sea level by year with projected relative sea level change from GrIS for Nome, AK\n",
    "fig, ax = plt.subplots()\n",
    "\n",
    "df_yr.Monthly_MSL.plot(color='blue', style='o', ax=ax, label='Monthly Mean Sea Level');\n",
    "df_yr.Linear_Trend.plot(color='red', ax=ax, label='Linear Relative Sea Level Trend');\n",
    "df_yr.High_Conf.plot(color='black', style='--', ax=ax, label='95% Confidence Interval');\n",
    "df_yr.Low_Conf.plot(color='black', style='--', ax=ax, label='');\n",
    "\n",
    "ax.set_ylabel('Sea Surface Elevation (meters)')\n",
    "ax.set_title('Relative Sea Level Trend: Nome, Alaska')\n",
    "ax.margins(x=0)\n",
    "ax.legend(loc=2);\n",
    "\n",
    "ax.plot(proj_yrs, proj_1_slc, color='magenta', label='9.71 K: 20.87 mm/yr')\n",
    "ax.plot(proj_yrs, proj_2_slc, color='purple', label='13.91 K: 21.56 mm/yr')\n",
    "ax.plot(proj_yrs, proj_3_slc, color='green', label='6.33 K: 19.59 mm/yr')\n",
    "\n",
    "ax.plot(proj_yrs[78], proj_1_slc[78], 'o', markersize=10, color='magenta', label='')\n",
    "ax.plot(proj_yrs[78], proj_2_slc[78], 'o', markersize=10, color='purple', label='')\n",
    "ax.plot(proj_yrs[78], proj_3_slc[78], 'o', markersize=10, color='green', label='')\n",
    "\n",
    "plt.text(2089,-0.6,'Source: NOAA')\n",
    "\n",
    "ax.set_ylabel('Sea Surface Elevation (meters)')\n",
    "ax.set_title('Projected Relative Sea Level Change from GrIS, 2022-2100: Nome, Alaska')\n",
    "ax.set_xlim(1992, 2101)\n",
    "ax.margins(x=0)\n",
    "ax.legend(loc=2);"
   ]
  },
  {
   "cell_type": "markdown",
   "id": "ba0febe7-8822-4fe7-8b37-2e42cafa1c82",
   "metadata": {},
   "source": [
    "## 14) Save figure of monthly mean sea level by year for Nome, Alaska with projected relative sea level change from GrIS"
   ]
  },
  {
   "cell_type": "code",
   "execution_count": 37,
   "id": "71ebbdc8-6f59-4dd5-aa04-0792fc1da1f6",
   "metadata": {},
   "outputs": [],
   "source": [
    "# Save figure\n",
    "fig.savefig(\"SLC_2100_Nome-AK.png\", bbox_inches='tight', dpi=600)"
   ]
  },
  {
   "cell_type": "markdown",
   "id": "b91b5941-ce9f-42be-9ee7-17c23641cb73",
   "metadata": {},
   "source": [
    "## 15) Plot projected relative sea level change from GrIS for Nome, Alaska"
   ]
  },
  {
   "cell_type": "code",
   "execution_count": 38,
   "id": "b75317b1-3770-4bec-90c5-588bd6c4eb60",
   "metadata": {},
   "outputs": [
    {
     "data": {
      "image/png": "[encoded data removed]",
      "text/plain": [
       "<Figure size 1200x600 with 1 Axes>"
      ]
     },
     "metadata": {},
     "output_type": "display_data"
    }
   ],
   "source": [
    "# Plot projected relative sea level change from GrIS for Nome, Alaska\n",
    "fig, ax = plt.subplots()\n",
    "\n",
    "ax.plot(proj_yrs, proj_1_slc, color='magenta', label='9.71 K: 20.87 mm/yr')\n",
    "ax.plot(proj_yrs, proj_2_slc, color='purple', label='13.91 K: 21.56 mm/yr')\n",
    "ax.plot(proj_yrs, proj_3_slc, color='green', label='6.33 K: 19.59 mm/yr')\n",
    "\n",
    "ax.plot(proj_yrs[78], proj_1_slc[78], 'o', markersize=10, color='magenta', label='')\n",
    "ax.plot(proj_yrs[78], proj_2_slc[78], 'o', markersize=10, color='purple', label='')\n",
    "ax.plot(proj_yrs[78], proj_3_slc[78], 'o', markersize=10, color='green', label='')\n",
    "\n",
    "ax.set_ylabel('Sea Surface Elevation (meters)')\n",
    "ax.set_xlabel('Year')\n",
    "ax.set_title('Projected Relative Sea Level Change from GrIS, 2022-2100: Nome, Alaska')\n",
    "ax.set_xlim(2022, 2101)\n",
    "ax.margins(x=0)\n",
    "ax.legend(loc=2);"
   ]
  },
  {
   "cell_type": "markdown",
   "id": "2790b4bf-7227-4634-a5b1-f303bea25349",
   "metadata": {},
   "source": [
    "## 16) Save figure of projected relative sea level change from GrIS for Nome, Alaska"
   ]
  },
  {
   "cell_type": "code",
   "execution_count": 39,
   "id": "44a05efe-a9ef-4af3-b868-689cae22e053",
   "metadata": {},
   "outputs": [],
   "source": [
    "# Save figure\n",
    "fig.savefig(\"SLC_2022-2100_Nome-AK.png\", bbox_inches='tight', dpi=600)"
   ]
  },
  {
   "cell_type": "code",
   "execution_count": null,
   "id": "6c3911e2-7948-4daa-84ac-724fed84b9b3",
   "metadata": {},
   "outputs": [],
   "source": []
  }
 ],
 "metadata": {
  "kernelspec": {
   "display_name": "Python 3 (ipykernel)",
   "language": "python",
   "name": "python3"
  },
  "language_info": {
   "codemirror_mode": {
    "name": "ipython",
    "version": 3
   },
   "file_extension": ".py",
   "mimetype": "text/x-python",
   "name": "python",
   "nbconvert_exporter": "python",
   "pygments_lexer": "ipython3",
   "version": "3.9.13"
  }
 },
 "nbformat": 4,
 "nbformat_minor": 5
}
